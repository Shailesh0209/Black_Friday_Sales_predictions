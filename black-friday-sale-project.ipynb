{
 "cells": [
  {
   "cell_type": "code",
   "execution_count": 1,
   "id": "8d8c8f79",
   "metadata": {
    "_cell_guid": "b1076dfc-b9ad-4769-8c92-a6c4dae69d19",
    "_uuid": "8f2839f25d086af736a60e9eeb907d3b93b6e0e5",
    "execution": {
     "iopub.execute_input": "2023-01-18T12:29:43.096781Z",
     "iopub.status.busy": "2023-01-18T12:29:43.096296Z",
     "iopub.status.idle": "2023-01-18T12:29:43.119094Z",
     "shell.execute_reply": "2023-01-18T12:29:43.118268Z"
    },
    "papermill": {
     "duration": 0.049822,
     "end_time": "2023-01-18T12:29:43.122296",
     "exception": false,
     "start_time": "2023-01-18T12:29:43.072474",
     "status": "completed"
    },
    "tags": []
   },
   "outputs": [
    {
     "name": "stdout",
     "output_type": "stream",
     "text": [
      "/kaggle/input/black-friday-sales-dataset/train.csv\n",
      "/kaggle/input/black-friday-sales-dataset/test.csv\n"
     ]
    }
   ],
   "source": [
    "# This Python 3 environment comes with many helpful analytics libraries installed\n",
    "# It is defined by the kaggle/python Docker image: https://github.com/kaggle/docker-python\n",
    "# For example, here's several helpful packages to load\n",
    "\n",
    "import numpy as np # linear algebra\n",
    "import pandas as pd # data processing, CSV file I/O (e.g. pd.read_csv)\n",
    "\n",
    "# Input data files are available in the read-only \"../input/\" directory\n",
    "# For example, running this (by clicking run or pressing Shift+Enter) will list all files under the input directory\n",
    "\n",
    "import os\n",
    "for dirname, _, filenames in os.walk('/kaggle/input'):\n",
    "    for filename in filenames:\n",
    "        print(os.path.join(dirname, filename))\n",
    "\n",
    "# You can write up to 20GB to the current directory (/kaggle/working/) that gets preserved as output when you create a version using \"Save & Run All\" \n",
    "# You can also write temporary files to /kaggle/temp/, but they won't be saved outside of the current session"
   ]
  },
  {
   "cell_type": "markdown",
   "id": "325acb99",
   "metadata": {
    "papermill": {
     "duration": 0.019051,
     "end_time": "2023-01-18T12:29:43.162108",
     "exception": false,
     "start_time": "2023-01-18T12:29:43.143057",
     "status": "completed"
    },
    "tags": []
   },
   "source": [
    "# Black Friday Sales Project\n",
    "\n",
    "Black Fiday is an informal name for the Friday following Thanksgiving Day in the United States, which is celebrated on the fourth Thursday of November. \n",
    "Many stores offer highly promoted sales on Black Friday and open very early(sometimes as early as midnight[2]), or may even start their sales at some time on Thanksgiving."
   ]
  },
  {
   "cell_type": "markdown",
   "id": "da99a3dc",
   "metadata": {
    "papermill": {
     "duration": 0.018972,
     "end_time": "2023-01-18T12:29:43.200625",
     "exception": false,
     "start_time": "2023-01-18T12:29:43.181653",
     "status": "completed"
    },
    "tags": []
   },
   "source": [
    "## Importing necessary libraries"
   ]
  },
  {
   "cell_type": "code",
   "execution_count": 2,
   "id": "5fa98c03",
   "metadata": {
    "execution": {
     "iopub.execute_input": "2023-01-18T12:29:43.240765Z",
     "iopub.status.busy": "2023-01-18T12:29:43.240331Z",
     "iopub.status.idle": "2023-01-18T12:29:44.668337Z",
     "shell.execute_reply": "2023-01-18T12:29:44.667046Z"
    },
    "papermill": {
     "duration": 1.451138,
     "end_time": "2023-01-18T12:29:44.671035",
     "exception": false,
     "start_time": "2023-01-18T12:29:43.219897",
     "status": "completed"
    },
    "tags": []
   },
   "outputs": [],
   "source": [
    "import pandas as pd\n",
    "import numpy as np\n",
    "import seaborn as sns\n",
    "import matplotlib.pyplot as plt\n",
    "\n",
    "from sklearn.preprocessing import LabelEncoder\n",
    "from sklearn.preprocessing import StandardScaler\n",
    "from sklearn.model_selection import train_test_split\n",
    "from sklearn.linear_model import LinearRegression\n",
    "from sklearn.tree import DecisionTreeRegressor\n",
    "from sklearn.ensemble import RandomForestRegressor\n",
    "from sklearn import metrics\n",
    "from sklearn.metrics import mean_absolute_error, mean_squared_error,r2_score\n"
   ]
  },
  {
   "cell_type": "markdown",
   "id": "595f5e39",
   "metadata": {
    "papermill": {
     "duration": 0.018858,
     "end_time": "2023-01-18T12:29:44.709322",
     "exception": false,
     "start_time": "2023-01-18T12:29:44.690464",
     "status": "completed"
    },
    "tags": []
   },
   "source": [
    "## Loading the Data."
   ]
  },
  {
   "cell_type": "code",
   "execution_count": 3,
   "id": "1a33f840",
   "metadata": {
    "execution": {
     "iopub.execute_input": "2023-01-18T12:29:44.749033Z",
     "iopub.status.busy": "2023-01-18T12:29:44.748633Z",
     "iopub.status.idle": "2023-01-18T12:29:45.678072Z",
     "shell.execute_reply": "2023-01-18T12:29:45.676863Z"
    },
    "papermill": {
     "duration": 0.952176,
     "end_time": "2023-01-18T12:29:45.680413",
     "exception": false,
     "start_time": "2023-01-18T12:29:44.728237",
     "status": "completed"
    },
    "tags": []
   },
   "outputs": [
    {
     "data": {
      "text/html": [
       "<div>\n",
       "<style scoped>\n",
       "    .dataframe tbody tr th:only-of-type {\n",
       "        vertical-align: middle;\n",
       "    }\n",
       "\n",
       "    .dataframe tbody tr th {\n",
       "        vertical-align: top;\n",
       "    }\n",
       "\n",
       "    .dataframe thead th {\n",
       "        text-align: right;\n",
       "    }\n",
       "</style>\n",
       "<table border=\"1\" class=\"dataframe\">\n",
       "  <thead>\n",
       "    <tr style=\"text-align: right;\">\n",
       "      <th></th>\n",
       "      <th>User_ID</th>\n",
       "      <th>Product_ID</th>\n",
       "      <th>Gender</th>\n",
       "      <th>Age</th>\n",
       "      <th>Occupation</th>\n",
       "      <th>City_Category</th>\n",
       "      <th>Stay_In_Current_City_Years</th>\n",
       "      <th>Marital_Status</th>\n",
       "      <th>Product_Category_1</th>\n",
       "      <th>Product_Category_2</th>\n",
       "      <th>Product_Category_3</th>\n",
       "      <th>Purchase</th>\n",
       "    </tr>\n",
       "  </thead>\n",
       "  <tbody>\n",
       "    <tr>\n",
       "      <th>0</th>\n",
       "      <td>1000001</td>\n",
       "      <td>P00069042</td>\n",
       "      <td>F</td>\n",
       "      <td>0-17</td>\n",
       "      <td>10</td>\n",
       "      <td>A</td>\n",
       "      <td>2</td>\n",
       "      <td>0</td>\n",
       "      <td>3</td>\n",
       "      <td>NaN</td>\n",
       "      <td>NaN</td>\n",
       "      <td>8370</td>\n",
       "    </tr>\n",
       "    <tr>\n",
       "      <th>1</th>\n",
       "      <td>1000001</td>\n",
       "      <td>P00248942</td>\n",
       "      <td>F</td>\n",
       "      <td>0-17</td>\n",
       "      <td>10</td>\n",
       "      <td>A</td>\n",
       "      <td>2</td>\n",
       "      <td>0</td>\n",
       "      <td>1</td>\n",
       "      <td>6.0</td>\n",
       "      <td>14.0</td>\n",
       "      <td>15200</td>\n",
       "    </tr>\n",
       "    <tr>\n",
       "      <th>2</th>\n",
       "      <td>1000001</td>\n",
       "      <td>P00087842</td>\n",
       "      <td>F</td>\n",
       "      <td>0-17</td>\n",
       "      <td>10</td>\n",
       "      <td>A</td>\n",
       "      <td>2</td>\n",
       "      <td>0</td>\n",
       "      <td>12</td>\n",
       "      <td>NaN</td>\n",
       "      <td>NaN</td>\n",
       "      <td>1422</td>\n",
       "    </tr>\n",
       "    <tr>\n",
       "      <th>3</th>\n",
       "      <td>1000001</td>\n",
       "      <td>P00085442</td>\n",
       "      <td>F</td>\n",
       "      <td>0-17</td>\n",
       "      <td>10</td>\n",
       "      <td>A</td>\n",
       "      <td>2</td>\n",
       "      <td>0</td>\n",
       "      <td>12</td>\n",
       "      <td>14.0</td>\n",
       "      <td>NaN</td>\n",
       "      <td>1057</td>\n",
       "    </tr>\n",
       "    <tr>\n",
       "      <th>4</th>\n",
       "      <td>1000002</td>\n",
       "      <td>P00285442</td>\n",
       "      <td>M</td>\n",
       "      <td>55+</td>\n",
       "      <td>16</td>\n",
       "      <td>C</td>\n",
       "      <td>4+</td>\n",
       "      <td>0</td>\n",
       "      <td>8</td>\n",
       "      <td>NaN</td>\n",
       "      <td>NaN</td>\n",
       "      <td>7969</td>\n",
       "    </tr>\n",
       "    <tr>\n",
       "      <th>...</th>\n",
       "      <td>...</td>\n",
       "      <td>...</td>\n",
       "      <td>...</td>\n",
       "      <td>...</td>\n",
       "      <td>...</td>\n",
       "      <td>...</td>\n",
       "      <td>...</td>\n",
       "      <td>...</td>\n",
       "      <td>...</td>\n",
       "      <td>...</td>\n",
       "      <td>...</td>\n",
       "      <td>...</td>\n",
       "    </tr>\n",
       "    <tr>\n",
       "      <th>550063</th>\n",
       "      <td>1006033</td>\n",
       "      <td>P00372445</td>\n",
       "      <td>M</td>\n",
       "      <td>51-55</td>\n",
       "      <td>13</td>\n",
       "      <td>B</td>\n",
       "      <td>1</td>\n",
       "      <td>1</td>\n",
       "      <td>20</td>\n",
       "      <td>NaN</td>\n",
       "      <td>NaN</td>\n",
       "      <td>368</td>\n",
       "    </tr>\n",
       "    <tr>\n",
       "      <th>550064</th>\n",
       "      <td>1006035</td>\n",
       "      <td>P00375436</td>\n",
       "      <td>F</td>\n",
       "      <td>26-35</td>\n",
       "      <td>1</td>\n",
       "      <td>C</td>\n",
       "      <td>3</td>\n",
       "      <td>0</td>\n",
       "      <td>20</td>\n",
       "      <td>NaN</td>\n",
       "      <td>NaN</td>\n",
       "      <td>371</td>\n",
       "    </tr>\n",
       "    <tr>\n",
       "      <th>550065</th>\n",
       "      <td>1006036</td>\n",
       "      <td>P00375436</td>\n",
       "      <td>F</td>\n",
       "      <td>26-35</td>\n",
       "      <td>15</td>\n",
       "      <td>B</td>\n",
       "      <td>4+</td>\n",
       "      <td>1</td>\n",
       "      <td>20</td>\n",
       "      <td>NaN</td>\n",
       "      <td>NaN</td>\n",
       "      <td>137</td>\n",
       "    </tr>\n",
       "    <tr>\n",
       "      <th>550066</th>\n",
       "      <td>1006038</td>\n",
       "      <td>P00375436</td>\n",
       "      <td>F</td>\n",
       "      <td>55+</td>\n",
       "      <td>1</td>\n",
       "      <td>C</td>\n",
       "      <td>2</td>\n",
       "      <td>0</td>\n",
       "      <td>20</td>\n",
       "      <td>NaN</td>\n",
       "      <td>NaN</td>\n",
       "      <td>365</td>\n",
       "    </tr>\n",
       "    <tr>\n",
       "      <th>550067</th>\n",
       "      <td>1006039</td>\n",
       "      <td>P00371644</td>\n",
       "      <td>F</td>\n",
       "      <td>46-50</td>\n",
       "      <td>0</td>\n",
       "      <td>B</td>\n",
       "      <td>4+</td>\n",
       "      <td>1</td>\n",
       "      <td>20</td>\n",
       "      <td>NaN</td>\n",
       "      <td>NaN</td>\n",
       "      <td>490</td>\n",
       "    </tr>\n",
       "  </tbody>\n",
       "</table>\n",
       "<p>550068 rows × 12 columns</p>\n",
       "</div>"
      ],
      "text/plain": [
       "        User_ID Product_ID Gender    Age  Occupation City_Category  \\\n",
       "0       1000001  P00069042      F   0-17          10             A   \n",
       "1       1000001  P00248942      F   0-17          10             A   \n",
       "2       1000001  P00087842      F   0-17          10             A   \n",
       "3       1000001  P00085442      F   0-17          10             A   \n",
       "4       1000002  P00285442      M    55+          16             C   \n",
       "...         ...        ...    ...    ...         ...           ...   \n",
       "550063  1006033  P00372445      M  51-55          13             B   \n",
       "550064  1006035  P00375436      F  26-35           1             C   \n",
       "550065  1006036  P00375436      F  26-35          15             B   \n",
       "550066  1006038  P00375436      F    55+           1             C   \n",
       "550067  1006039  P00371644      F  46-50           0             B   \n",
       "\n",
       "       Stay_In_Current_City_Years  Marital_Status  Product_Category_1  \\\n",
       "0                               2               0                   3   \n",
       "1                               2               0                   1   \n",
       "2                               2               0                  12   \n",
       "3                               2               0                  12   \n",
       "4                              4+               0                   8   \n",
       "...                           ...             ...                 ...   \n",
       "550063                          1               1                  20   \n",
       "550064                          3               0                  20   \n",
       "550065                         4+               1                  20   \n",
       "550066                          2               0                  20   \n",
       "550067                         4+               1                  20   \n",
       "\n",
       "        Product_Category_2  Product_Category_3  Purchase  \n",
       "0                      NaN                 NaN      8370  \n",
       "1                      6.0                14.0     15200  \n",
       "2                      NaN                 NaN      1422  \n",
       "3                     14.0                 NaN      1057  \n",
       "4                      NaN                 NaN      7969  \n",
       "...                    ...                 ...       ...  \n",
       "550063                 NaN                 NaN       368  \n",
       "550064                 NaN                 NaN       371  \n",
       "550065                 NaN                 NaN       137  \n",
       "550066                 NaN                 NaN       365  \n",
       "550067                 NaN                 NaN       490  \n",
       "\n",
       "[550068 rows x 12 columns]"
      ]
     },
     "execution_count": 3,
     "metadata": {},
     "output_type": "execute_result"
    }
   ],
   "source": [
    "train=pd.read_csv(\"/kaggle/input/black-friday-sales-dataset/train.csv\")\n",
    "train"
   ]
  },
  {
   "cell_type": "markdown",
   "id": "a8a32c03",
   "metadata": {
    "papermill": {
     "duration": 0.019012,
     "end_time": "2023-01-18T12:29:45.719420",
     "exception": false,
     "start_time": "2023-01-18T12:29:45.700408",
     "status": "completed"
    },
    "tags": []
   },
   "source": [
    "## Data Understanding"
   ]
  },
  {
   "cell_type": "code",
   "execution_count": 4,
   "id": "fec546c2",
   "metadata": {
    "execution": {
     "iopub.execute_input": "2023-01-18T12:29:45.760919Z",
     "iopub.status.busy": "2023-01-18T12:29:45.759914Z",
     "iopub.status.idle": "2023-01-18T12:29:45.766413Z",
     "shell.execute_reply": "2023-01-18T12:29:45.765434Z"
    },
    "papermill": {
     "duration": 0.029506,
     "end_time": "2023-01-18T12:29:45.768606",
     "exception": false,
     "start_time": "2023-01-18T12:29:45.739100",
     "status": "completed"
    },
    "tags": []
   },
   "outputs": [
    {
     "data": {
      "text/plain": [
       "(550068, 12)"
      ]
     },
     "execution_count": 4,
     "metadata": {},
     "output_type": "execute_result"
    }
   ],
   "source": [
    "train.shape"
   ]
  },
  {
   "cell_type": "code",
   "execution_count": 5,
   "id": "02801ee0",
   "metadata": {
    "execution": {
     "iopub.execute_input": "2023-01-18T12:29:45.810428Z",
     "iopub.status.busy": "2023-01-18T12:29:45.810047Z",
     "iopub.status.idle": "2023-01-18T12:29:45.996186Z",
     "shell.execute_reply": "2023-01-18T12:29:45.995420Z"
    },
    "papermill": {
     "duration": 0.20987,
     "end_time": "2023-01-18T12:29:45.998325",
     "exception": false,
     "start_time": "2023-01-18T12:29:45.788455",
     "status": "completed"
    },
    "tags": []
   },
   "outputs": [
    {
     "data": {
      "text/html": [
       "<div>\n",
       "<style scoped>\n",
       "    .dataframe tbody tr th:only-of-type {\n",
       "        vertical-align: middle;\n",
       "    }\n",
       "\n",
       "    .dataframe tbody tr th {\n",
       "        vertical-align: top;\n",
       "    }\n",
       "\n",
       "    .dataframe thead th {\n",
       "        text-align: right;\n",
       "    }\n",
       "</style>\n",
       "<table border=\"1\" class=\"dataframe\">\n",
       "  <thead>\n",
       "    <tr style=\"text-align: right;\">\n",
       "      <th></th>\n",
       "      <th>User_ID</th>\n",
       "      <th>Occupation</th>\n",
       "      <th>Marital_Status</th>\n",
       "      <th>Product_Category_1</th>\n",
       "      <th>Product_Category_2</th>\n",
       "      <th>Product_Category_3</th>\n",
       "      <th>Purchase</th>\n",
       "    </tr>\n",
       "  </thead>\n",
       "  <tbody>\n",
       "    <tr>\n",
       "      <th>count</th>\n",
       "      <td>5.500680e+05</td>\n",
       "      <td>550068.000000</td>\n",
       "      <td>550068.000000</td>\n",
       "      <td>550068.000000</td>\n",
       "      <td>376430.000000</td>\n",
       "      <td>166821.000000</td>\n",
       "      <td>550068.000000</td>\n",
       "    </tr>\n",
       "    <tr>\n",
       "      <th>mean</th>\n",
       "      <td>1.003029e+06</td>\n",
       "      <td>8.076707</td>\n",
       "      <td>0.409653</td>\n",
       "      <td>5.404270</td>\n",
       "      <td>9.842329</td>\n",
       "      <td>12.668243</td>\n",
       "      <td>9263.968713</td>\n",
       "    </tr>\n",
       "    <tr>\n",
       "      <th>std</th>\n",
       "      <td>1.727592e+03</td>\n",
       "      <td>6.522660</td>\n",
       "      <td>0.491770</td>\n",
       "      <td>3.936211</td>\n",
       "      <td>5.086590</td>\n",
       "      <td>4.125338</td>\n",
       "      <td>5023.065394</td>\n",
       "    </tr>\n",
       "    <tr>\n",
       "      <th>min</th>\n",
       "      <td>1.000001e+06</td>\n",
       "      <td>0.000000</td>\n",
       "      <td>0.000000</td>\n",
       "      <td>1.000000</td>\n",
       "      <td>2.000000</td>\n",
       "      <td>3.000000</td>\n",
       "      <td>12.000000</td>\n",
       "    </tr>\n",
       "    <tr>\n",
       "      <th>25%</th>\n",
       "      <td>1.001516e+06</td>\n",
       "      <td>2.000000</td>\n",
       "      <td>0.000000</td>\n",
       "      <td>1.000000</td>\n",
       "      <td>5.000000</td>\n",
       "      <td>9.000000</td>\n",
       "      <td>5823.000000</td>\n",
       "    </tr>\n",
       "    <tr>\n",
       "      <th>50%</th>\n",
       "      <td>1.003077e+06</td>\n",
       "      <td>7.000000</td>\n",
       "      <td>0.000000</td>\n",
       "      <td>5.000000</td>\n",
       "      <td>9.000000</td>\n",
       "      <td>14.000000</td>\n",
       "      <td>8047.000000</td>\n",
       "    </tr>\n",
       "    <tr>\n",
       "      <th>75%</th>\n",
       "      <td>1.004478e+06</td>\n",
       "      <td>14.000000</td>\n",
       "      <td>1.000000</td>\n",
       "      <td>8.000000</td>\n",
       "      <td>15.000000</td>\n",
       "      <td>16.000000</td>\n",
       "      <td>12054.000000</td>\n",
       "    </tr>\n",
       "    <tr>\n",
       "      <th>max</th>\n",
       "      <td>1.006040e+06</td>\n",
       "      <td>20.000000</td>\n",
       "      <td>1.000000</td>\n",
       "      <td>20.000000</td>\n",
       "      <td>18.000000</td>\n",
       "      <td>18.000000</td>\n",
       "      <td>23961.000000</td>\n",
       "    </tr>\n",
       "  </tbody>\n",
       "</table>\n",
       "</div>"
      ],
      "text/plain": [
       "            User_ID     Occupation  Marital_Status  Product_Category_1  \\\n",
       "count  5.500680e+05  550068.000000   550068.000000       550068.000000   \n",
       "mean   1.003029e+06       8.076707        0.409653            5.404270   \n",
       "std    1.727592e+03       6.522660        0.491770            3.936211   \n",
       "min    1.000001e+06       0.000000        0.000000            1.000000   \n",
       "25%    1.001516e+06       2.000000        0.000000            1.000000   \n",
       "50%    1.003077e+06       7.000000        0.000000            5.000000   \n",
       "75%    1.004478e+06      14.000000        1.000000            8.000000   \n",
       "max    1.006040e+06      20.000000        1.000000           20.000000   \n",
       "\n",
       "       Product_Category_2  Product_Category_3       Purchase  \n",
       "count       376430.000000       166821.000000  550068.000000  \n",
       "mean             9.842329           12.668243    9263.968713  \n",
       "std              5.086590            4.125338    5023.065394  \n",
       "min              2.000000            3.000000      12.000000  \n",
       "25%              5.000000            9.000000    5823.000000  \n",
       "50%              9.000000           14.000000    8047.000000  \n",
       "75%             15.000000           16.000000   12054.000000  \n",
       "max             18.000000           18.000000   23961.000000  "
      ]
     },
     "execution_count": 5,
     "metadata": {},
     "output_type": "execute_result"
    }
   ],
   "source": [
    "train.describe()"
   ]
  },
  {
   "cell_type": "code",
   "execution_count": 6,
   "id": "adbdd00b",
   "metadata": {
    "execution": {
     "iopub.execute_input": "2023-01-18T12:29:46.049891Z",
     "iopub.status.busy": "2023-01-18T12:29:46.048479Z",
     "iopub.status.idle": "2023-01-18T12:29:46.207085Z",
     "shell.execute_reply": "2023-01-18T12:29:46.205552Z"
    },
    "papermill": {
     "duration": 0.190735,
     "end_time": "2023-01-18T12:29:46.209981",
     "exception": false,
     "start_time": "2023-01-18T12:29:46.019246",
     "status": "completed"
    },
    "tags": []
   },
   "outputs": [
    {
     "name": "stdout",
     "output_type": "stream",
     "text": [
      "<class 'pandas.core.frame.DataFrame'>\n",
      "RangeIndex: 550068 entries, 0 to 550067\n",
      "Data columns (total 12 columns):\n",
      " #   Column                      Non-Null Count   Dtype  \n",
      "---  ------                      --------------   -----  \n",
      " 0   User_ID                     550068 non-null  int64  \n",
      " 1   Product_ID                  550068 non-null  object \n",
      " 2   Gender                      550068 non-null  object \n",
      " 3   Age                         550068 non-null  object \n",
      " 4   Occupation                  550068 non-null  int64  \n",
      " 5   City_Category               550068 non-null  object \n",
      " 6   Stay_In_Current_City_Years  550068 non-null  object \n",
      " 7   Marital_Status              550068 non-null  int64  \n",
      " 8   Product_Category_1          550068 non-null  int64  \n",
      " 9   Product_Category_2          376430 non-null  float64\n",
      " 10  Product_Category_3          166821 non-null  float64\n",
      " 11  Purchase                    550068 non-null  int64  \n",
      "dtypes: float64(2), int64(5), object(5)\n",
      "memory usage: 50.4+ MB\n"
     ]
    }
   ],
   "source": [
    "train.info()"
   ]
  },
  {
   "cell_type": "code",
   "execution_count": 7,
   "id": "916419e1",
   "metadata": {
    "execution": {
     "iopub.execute_input": "2023-01-18T12:29:46.253937Z",
     "iopub.status.busy": "2023-01-18T12:29:46.253240Z",
     "iopub.status.idle": "2023-01-18T12:29:46.380811Z",
     "shell.execute_reply": "2023-01-18T12:29:46.379603Z"
    },
    "papermill": {
     "duration": 0.151923,
     "end_time": "2023-01-18T12:29:46.383278",
     "exception": false,
     "start_time": "2023-01-18T12:29:46.231355",
     "status": "completed"
    },
    "tags": []
   },
   "outputs": [
    {
     "data": {
      "text/plain": [
       "User_ID                            0\n",
       "Product_ID                         0\n",
       "Gender                             0\n",
       "Age                                0\n",
       "Occupation                         0\n",
       "City_Category                      0\n",
       "Stay_In_Current_City_Years         0\n",
       "Marital_Status                     0\n",
       "Product_Category_1                 0\n",
       "Product_Category_2            173638\n",
       "Product_Category_3            383247\n",
       "Purchase                           0\n",
       "dtype: int64"
      ]
     },
     "execution_count": 7,
     "metadata": {},
     "output_type": "execute_result"
    }
   ],
   "source": [
    "train.isnull().sum()"
   ]
  },
  {
   "cell_type": "markdown",
   "id": "82aee2b0",
   "metadata": {
    "papermill": {
     "duration": 0.020079,
     "end_time": "2023-01-18T12:29:46.423393",
     "exception": false,
     "start_time": "2023-01-18T12:29:46.403314",
     "status": "completed"
    },
    "tags": []
   },
   "source": [
    "## Data Visualization"
   ]
  },
  {
   "cell_type": "code",
   "execution_count": 8,
   "id": "ce273e71",
   "metadata": {
    "execution": {
     "iopub.execute_input": "2023-01-18T12:29:46.465669Z",
     "iopub.status.busy": "2023-01-18T12:29:46.465244Z",
     "iopub.status.idle": "2023-01-18T12:29:47.018387Z",
     "shell.execute_reply": "2023-01-18T12:29:47.017548Z"
    },
    "papermill": {
     "duration": 0.576831,
     "end_time": "2023-01-18T12:29:47.020444",
     "exception": false,
     "start_time": "2023-01-18T12:29:46.443613",
     "status": "completed"
    },
    "tags": []
   },
   "outputs": [
    {
     "data": {
      "text/plain": [
       "<AxesSubplot:xlabel='Gender', ylabel='count'>"
      ]
     },
     "execution_count": 8,
     "metadata": {},
     "output_type": "execute_result"
    },
    {
     "data": {
      "image/png": "[encoded data removed]",
      "text/plain": [
       "<Figure size 720x432 with 1 Axes>"
      ]
     },
     "metadata": {
      "needs_background": "light"
     },
     "output_type": "display_data"
    }
   ],
   "source": [
    "plt.figure(figsize=(10,6))\n",
    "sns.countplot(data=train, x='Gender', palette='mako')\n",
    "# The countplot shows the occurences of the gender in the dataset"
   ]
  },
  {
   "cell_type": "markdown",
   "id": "2dd8d72a",
   "metadata": {
    "papermill": {
     "duration": 0.020331,
     "end_time": "2023-01-18T12:29:47.062977",
     "exception": false,
     "start_time": "2023-01-18T12:29:47.042646",
     "status": "completed"
    },
    "tags": []
   },
   "source": [
    "the count of male is higher than female"
   ]
  },
  {
   "cell_type": "code",
   "execution_count": 9,
   "id": "3ae93eb0",
   "metadata": {
    "execution": {
     "iopub.execute_input": "2023-01-18T12:29:47.107295Z",
     "iopub.status.busy": "2023-01-18T12:29:47.106630Z",
     "iopub.status.idle": "2023-01-18T12:29:56.006066Z",
     "shell.execute_reply": "2023-01-18T12:29:56.004867Z"
    },
    "papermill": {
     "duration": 8.92399,
     "end_time": "2023-01-18T12:29:56.008453",
     "exception": false,
     "start_time": "2023-01-18T12:29:47.084463",
     "status": "completed"
    },
    "tags": []
   },
   "outputs": [
    {
     "data": {
      "text/plain": [
       "<AxesSubplot:xlabel='Gender', ylabel='Marital_Status'>"
      ]
     },
     "execution_count": 9,
     "metadata": {},
     "output_type": "execute_result"
    },
    {
     "data": {
      "image/png": "[encoded data removed]",
      "text/plain": [
       "<Figure size 720x432 with 1 Axes>"
      ]
     },
     "metadata": {
      "needs_background": "light"
     },
     "output_type": "display_data"
    }
   ],
   "source": [
    "plt.figure(figsize=(10,6))\n",
    "sns.barplot(x='Gender', y='Marital_Status',data=train)"
   ]
  },
  {
   "cell_type": "markdown",
   "id": "cb0adc8b",
   "metadata": {
    "papermill": {
     "duration": 0.020102,
     "end_time": "2023-01-18T12:29:56.049548",
     "exception": false,
     "start_time": "2023-01-18T12:29:56.029446",
     "status": "completed"
    },
    "tags": []
   },
   "source": [
    "Female's marital status is higher than male one"
   ]
  },
  {
   "cell_type": "code",
   "execution_count": 10,
   "id": "387dbf7e",
   "metadata": {
    "execution": {
     "iopub.execute_input": "2023-01-18T12:29:56.092409Z",
     "iopub.status.busy": "2023-01-18T12:29:56.091797Z",
     "iopub.status.idle": "2023-01-18T12:30:04.804519Z",
     "shell.execute_reply": "2023-01-18T12:30:04.803750Z"
    },
    "papermill": {
     "duration": 8.737072,
     "end_time": "2023-01-18T12:30:04.806842",
     "exception": false,
     "start_time": "2023-01-18T12:29:56.069770",
     "status": "completed"
    },
    "tags": []
   },
   "outputs": [
    {
     "data": {
      "text/plain": [
       "<AxesSubplot:xlabel='Gender', ylabel='Purchase'>"
      ]
     },
     "execution_count": 10,
     "metadata": {},
     "output_type": "execute_result"
    },
    {
     "data": {
      "image/png": "[encoded data removed]",
      "text/plain": [
       "<Figure size 720x432 with 1 Axes>"
      ]
     },
     "metadata": {
      "needs_background": "light"
     },
     "output_type": "display_data"
    }
   ],
   "source": [
    "plt.figure(figsize=(10,6))\n",
    "sns.barplot(x='Gender', y='Purchase',data=train)"
   ]
  },
  {
   "cell_type": "markdown",
   "id": "18df2125",
   "metadata": {
    "papermill": {
     "duration": 0.020797,
     "end_time": "2023-01-18T12:30:04.849235",
     "exception": false,
     "start_time": "2023-01-18T12:30:04.828438",
     "status": "completed"
    },
    "tags": []
   },
   "source": [
    "Higher purchases have been done by the male gender as compare to the female"
   ]
  },
  {
   "cell_type": "code",
   "execution_count": 11,
   "id": "edf49c3f",
   "metadata": {
    "execution": {
     "iopub.execute_input": "2023-01-18T12:30:04.895910Z",
     "iopub.status.busy": "2023-01-18T12:30:04.895175Z",
     "iopub.status.idle": "2023-01-18T12:30:12.182000Z",
     "shell.execute_reply": "2023-01-18T12:30:12.180804Z"
    },
    "papermill": {
     "duration": 7.312349,
     "end_time": "2023-01-18T12:30:12.184764",
     "exception": false,
     "start_time": "2023-01-18T12:30:04.872415",
     "status": "completed"
    },
    "tags": []
   },
   "outputs": [
    {
     "data": {
      "image/png": "[encoded data removed]",
      "text/plain": [
       "<Figure size 720x432 with 1 Axes>"
      ]
     },
     "metadata": {
      "needs_background": "light"
     },
     "output_type": "display_data"
    }
   ],
   "source": [
    "plt.figure(figsize=(10,6))\n",
    "sns.barplot(x='Occupation', y='Purchase',data=train);"
   ]
  },
  {
   "cell_type": "markdown",
   "id": "8af04fcc",
   "metadata": {
    "papermill": {
     "duration": 0.021072,
     "end_time": "2023-01-18T12:30:12.227843",
     "exception": false,
     "start_time": "2023-01-18T12:30:12.206771",
     "status": "completed"
    },
    "tags": []
   },
   "source": [
    "Occupation has a direct effect on the purchases done by the consumer and the occupation codes 12,15, 17 have higher purchases."
   ]
  },
  {
   "cell_type": "code",
   "execution_count": 12,
   "id": "e97b2773",
   "metadata": {
    "execution": {
     "iopub.execute_input": "2023-01-18T12:30:12.272771Z",
     "iopub.status.busy": "2023-01-18T12:30:12.272095Z",
     "iopub.status.idle": "2023-01-18T12:30:20.249386Z",
     "shell.execute_reply": "2023-01-18T12:30:20.248118Z"
    },
    "papermill": {
     "duration": 8.002688,
     "end_time": "2023-01-18T12:30:20.251900",
     "exception": false,
     "start_time": "2023-01-18T12:30:12.249212",
     "status": "completed"
    },
    "tags": []
   },
   "outputs": [
    {
     "data": {
      "image/png": "[encoded data removed]",
      "text/plain": [
       "<Figure size 720x432 with 1 Axes>"
      ]
     },
     "metadata": {
      "needs_background": "light"
     },
     "output_type": "display_data"
    }
   ],
   "source": [
    "plt.figure(figsize=(10,6))\n",
    "sns.barplot(x='Occupation', y='Purchase',hue='Gender',data=train);"
   ]
  },
  {
   "cell_type": "markdown",
   "id": "3615ace7",
   "metadata": {
    "papermill": {
     "duration": 0.021246,
     "end_time": "2023-01-18T12:30:20.294603",
     "exception": false,
     "start_time": "2023-01-18T12:30:20.273357",
     "status": "completed"
    },
    "tags": []
   },
   "source": [
    "Female gender in the occupation 18 with higher purchases compared to others."
   ]
  },
  {
   "cell_type": "markdown",
   "id": "76f2cfe1",
   "metadata": {
    "papermill": {
     "duration": 0.021221,
     "end_time": "2023-01-18T12:30:20.337423",
     "exception": false,
     "start_time": "2023-01-18T12:30:20.316202",
     "status": "completed"
    },
    "tags": []
   },
   "source": [
    "### Outlier Detection\n",
    "#### Checking the presence of outliers using BoxPlot"
   ]
  },
  {
   "cell_type": "markdown",
   "id": "3edc8bc4",
   "metadata": {
    "papermill": {
     "duration": 0.021141,
     "end_time": "2023-01-18T12:30:20.379852",
     "exception": false,
     "start_time": "2023-01-18T12:30:20.358711",
     "status": "completed"
    },
    "tags": []
   },
   "source": [
    "Using boxplot we can detect the presence of outliers in the data."
   ]
  },
  {
   "cell_type": "code",
   "execution_count": 13,
   "id": "1fc2e154",
   "metadata": {
    "execution": {
     "iopub.execute_input": "2023-01-18T12:30:20.424775Z",
     "iopub.status.busy": "2023-01-18T12:30:20.424381Z",
     "iopub.status.idle": "2023-01-18T12:30:20.882662Z",
     "shell.execute_reply": "2023-01-18T12:30:20.881507Z"
    },
    "papermill": {
     "duration": 0.483829,
     "end_time": "2023-01-18T12:30:20.885134",
     "exception": false,
     "start_time": "2023-01-18T12:30:20.401305",
     "status": "completed"
    },
    "tags": []
   },
   "outputs": [
    {
     "data": {
      "text/plain": [
       "<AxesSubplot:xlabel='Gender', ylabel='Purchase'>"
      ]
     },
     "execution_count": 13,
     "metadata": {},
     "output_type": "execute_result"
    },
    {
     "data": {
      "image/png": "[encoded data removed]",
      "text/plain": [
       "<Figure size 720x432 with 1 Axes>"
      ]
     },
     "metadata": {
      "needs_background": "light"
     },
     "output_type": "display_data"
    }
   ],
   "source": [
    "plt.figure(figsize=(10,6))\n",
    "sns.boxplot(x='Gender', y='Purchase',data=train)"
   ]
  },
  {
   "cell_type": "code",
   "execution_count": 14,
   "id": "3795cf3f",
   "metadata": {
    "execution": {
     "iopub.execute_input": "2023-01-18T12:30:20.931495Z",
     "iopub.status.busy": "2023-01-18T12:30:20.930717Z",
     "iopub.status.idle": "2023-01-18T12:30:21.504702Z",
     "shell.execute_reply": "2023-01-18T12:30:21.503514Z"
    },
    "papermill": {
     "duration": 0.599797,
     "end_time": "2023-01-18T12:30:21.507103",
     "exception": false,
     "start_time": "2023-01-18T12:30:20.907306",
     "status": "completed"
    },
    "tags": []
   },
   "outputs": [
    {
     "data": {
      "image/png": "[encoded data removed]",
      "text/plain": [
       "<Figure size 720x432 with 1 Axes>"
      ]
     },
     "metadata": {
      "needs_background": "light"
     },
     "output_type": "display_data"
    }
   ],
   "source": [
    "plt.figure(figsize=(10,6))\n",
    "sns.boxplot(x='Occupation', y='Purchase',data=train);"
   ]
  },
  {
   "cell_type": "markdown",
   "id": "65990c17",
   "metadata": {
    "papermill": {
     "duration": 0.021956,
     "end_time": "2023-01-18T12:30:21.551347",
     "exception": false,
     "start_time": "2023-01-18T12:30:21.529391",
     "status": "completed"
    },
    "tags": []
   },
   "source": [
    "The Purchase column has outliers which may effect the performance of the ml models."
   ]
  },
  {
   "cell_type": "code",
   "execution_count": 15,
   "id": "209cc8fe",
   "metadata": {
    "execution": {
     "iopub.execute_input": "2023-01-18T12:30:21.597834Z",
     "iopub.status.busy": "2023-01-18T12:30:21.597174Z",
     "iopub.status.idle": "2023-01-18T12:30:22.071923Z",
     "shell.execute_reply": "2023-01-18T12:30:22.070635Z"
    },
    "papermill": {
     "duration": 0.501017,
     "end_time": "2023-01-18T12:30:22.074617",
     "exception": false,
     "start_time": "2023-01-18T12:30:21.573600",
     "status": "completed"
    },
    "tags": []
   },
   "outputs": [
    {
     "data": {
      "image/png": "[encoded data removed]",
      "text/plain": [
       "<Figure size 720x432 with 1 Axes>"
      ]
     },
     "metadata": {
      "needs_background": "light"
     },
     "output_type": "display_data"
    }
   ],
   "source": [
    "plt.figure(figsize=(10,6))\n",
    "sns.boxplot(x='Age', y='Purchase',data=train);"
   ]
  },
  {
   "cell_type": "markdown",
   "id": "e8b90809",
   "metadata": {
    "papermill": {
     "duration": 0.023399,
     "end_time": "2023-01-18T12:30:22.121649",
     "exception": false,
     "start_time": "2023-01-18T12:30:22.098250",
     "status": "completed"
    },
    "tags": []
   },
   "source": [
    "Again,We can see that Purchase over 20,000 is outlier"
   ]
  },
  {
   "cell_type": "code",
   "execution_count": 16,
   "id": "0a24a4c3",
   "metadata": {
    "execution": {
     "iopub.execute_input": "2023-01-18T12:30:22.170623Z",
     "iopub.status.busy": "2023-01-18T12:30:22.169851Z",
     "iopub.status.idle": "2023-01-18T12:30:22.877360Z",
     "shell.execute_reply": "2023-01-18T12:30:22.876509Z"
    },
    "papermill": {
     "duration": 0.734345,
     "end_time": "2023-01-18T12:30:22.879640",
     "exception": false,
     "start_time": "2023-01-18T12:30:22.145295",
     "status": "completed"
    },
    "tags": []
   },
   "outputs": [
    {
     "data": {
      "image/png": "[encoded data removed]",
      "text/plain": [
       "<Figure size 720x432 with 1 Axes>"
      ]
     },
     "metadata": {
      "needs_background": "light"
     },
     "output_type": "display_data"
    }
   ],
   "source": [
    "plt.figure(figsize=(10,6))\n",
    "sns.boxplot(x='Product_Category_1', y='Purchase',data=train);"
   ]
  },
  {
   "cell_type": "markdown",
   "id": "09be3231",
   "metadata": {
    "papermill": {
     "duration": 0.022466,
     "end_time": "2023-01-18T12:30:22.924920",
     "exception": false,
     "start_time": "2023-01-18T12:30:22.902454",
     "status": "completed"
    },
    "tags": []
   },
   "source": [
    "Outliers are also present in the Product category as well"
   ]
  },
  {
   "cell_type": "markdown",
   "id": "78ef05ec",
   "metadata": {
    "papermill": {
     "duration": 0.022598,
     "end_time": "2023-01-18T12:30:22.970291",
     "exception": false,
     "start_time": "2023-01-18T12:30:22.947693",
     "status": "completed"
    },
    "tags": []
   },
   "source": [
    "## Data Preprocessing"
   ]
  },
  {
   "cell_type": "markdown",
   "id": "b63c7763",
   "metadata": {
    "papermill": {
     "duration": 0.022687,
     "end_time": "2023-01-18T12:30:23.015852",
     "exception": false,
     "start_time": "2023-01-18T12:30:22.993165",
     "status": "completed"
    },
    "tags": []
   },
   "source": [
    "Data preprocessing is a data mining technique which is used to transform the raw data in a useful and efficient format."
   ]
  },
  {
   "cell_type": "code",
   "execution_count": 17,
   "id": "abfedada",
   "metadata": {
    "execution": {
     "iopub.execute_input": "2023-01-18T12:30:23.063645Z",
     "iopub.status.busy": "2023-01-18T12:30:23.062970Z",
     "iopub.status.idle": "2023-01-18T12:30:23.085534Z",
     "shell.execute_reply": "2023-01-18T12:30:23.084416Z"
    },
    "papermill": {
     "duration": 0.049354,
     "end_time": "2023-01-18T12:30:23.088101",
     "exception": false,
     "start_time": "2023-01-18T12:30:23.038747",
     "status": "completed"
    },
    "tags": []
   },
   "outputs": [
    {
     "data": {
      "text/html": [
       "<div>\n",
       "<style scoped>\n",
       "    .dataframe tbody tr th:only-of-type {\n",
       "        vertical-align: middle;\n",
       "    }\n",
       "\n",
       "    .dataframe tbody tr th {\n",
       "        vertical-align: top;\n",
       "    }\n",
       "\n",
       "    .dataframe thead th {\n",
       "        text-align: right;\n",
       "    }\n",
       "</style>\n",
       "<table border=\"1\" class=\"dataframe\">\n",
       "  <thead>\n",
       "    <tr style=\"text-align: right;\">\n",
       "      <th></th>\n",
       "      <th>User_ID</th>\n",
       "      <th>Product_ID</th>\n",
       "      <th>Gender</th>\n",
       "      <th>Age</th>\n",
       "      <th>Occupation</th>\n",
       "      <th>City_Category</th>\n",
       "      <th>Stay_In_Current_City_Years</th>\n",
       "      <th>Marital_Status</th>\n",
       "      <th>Product_Category_1</th>\n",
       "      <th>Product_Category_2</th>\n",
       "      <th>Product_Category_3</th>\n",
       "      <th>Purchase</th>\n",
       "    </tr>\n",
       "  </thead>\n",
       "  <tbody>\n",
       "    <tr>\n",
       "      <th>0</th>\n",
       "      <td>1000001</td>\n",
       "      <td>P00069042</td>\n",
       "      <td>F</td>\n",
       "      <td>0-17</td>\n",
       "      <td>10</td>\n",
       "      <td>A</td>\n",
       "      <td>2</td>\n",
       "      <td>0</td>\n",
       "      <td>3</td>\n",
       "      <td>NaN</td>\n",
       "      <td>NaN</td>\n",
       "      <td>8370</td>\n",
       "    </tr>\n",
       "    <tr>\n",
       "      <th>1</th>\n",
       "      <td>1000001</td>\n",
       "      <td>P00248942</td>\n",
       "      <td>F</td>\n",
       "      <td>0-17</td>\n",
       "      <td>10</td>\n",
       "      <td>A</td>\n",
       "      <td>2</td>\n",
       "      <td>0</td>\n",
       "      <td>1</td>\n",
       "      <td>6.0</td>\n",
       "      <td>14.0</td>\n",
       "      <td>15200</td>\n",
       "    </tr>\n",
       "    <tr>\n",
       "      <th>2</th>\n",
       "      <td>1000001</td>\n",
       "      <td>P00087842</td>\n",
       "      <td>F</td>\n",
       "      <td>0-17</td>\n",
       "      <td>10</td>\n",
       "      <td>A</td>\n",
       "      <td>2</td>\n",
       "      <td>0</td>\n",
       "      <td>12</td>\n",
       "      <td>NaN</td>\n",
       "      <td>NaN</td>\n",
       "      <td>1422</td>\n",
       "    </tr>\n",
       "    <tr>\n",
       "      <th>3</th>\n",
       "      <td>1000001</td>\n",
       "      <td>P00085442</td>\n",
       "      <td>F</td>\n",
       "      <td>0-17</td>\n",
       "      <td>10</td>\n",
       "      <td>A</td>\n",
       "      <td>2</td>\n",
       "      <td>0</td>\n",
       "      <td>12</td>\n",
       "      <td>14.0</td>\n",
       "      <td>NaN</td>\n",
       "      <td>1057</td>\n",
       "    </tr>\n",
       "    <tr>\n",
       "      <th>4</th>\n",
       "      <td>1000002</td>\n",
       "      <td>P00285442</td>\n",
       "      <td>M</td>\n",
       "      <td>55+</td>\n",
       "      <td>16</td>\n",
       "      <td>C</td>\n",
       "      <td>4+</td>\n",
       "      <td>0</td>\n",
       "      <td>8</td>\n",
       "      <td>NaN</td>\n",
       "      <td>NaN</td>\n",
       "      <td>7969</td>\n",
       "    </tr>\n",
       "    <tr>\n",
       "      <th>...</th>\n",
       "      <td>...</td>\n",
       "      <td>...</td>\n",
       "      <td>...</td>\n",
       "      <td>...</td>\n",
       "      <td>...</td>\n",
       "      <td>...</td>\n",
       "      <td>...</td>\n",
       "      <td>...</td>\n",
       "      <td>...</td>\n",
       "      <td>...</td>\n",
       "      <td>...</td>\n",
       "      <td>...</td>\n",
       "    </tr>\n",
       "    <tr>\n",
       "      <th>550063</th>\n",
       "      <td>1006033</td>\n",
       "      <td>P00372445</td>\n",
       "      <td>M</td>\n",
       "      <td>51-55</td>\n",
       "      <td>13</td>\n",
       "      <td>B</td>\n",
       "      <td>1</td>\n",
       "      <td>1</td>\n",
       "      <td>20</td>\n",
       "      <td>NaN</td>\n",
       "      <td>NaN</td>\n",
       "      <td>368</td>\n",
       "    </tr>\n",
       "    <tr>\n",
       "      <th>550064</th>\n",
       "      <td>1006035</td>\n",
       "      <td>P00375436</td>\n",
       "      <td>F</td>\n",
       "      <td>26-35</td>\n",
       "      <td>1</td>\n",
       "      <td>C</td>\n",
       "      <td>3</td>\n",
       "      <td>0</td>\n",
       "      <td>20</td>\n",
       "      <td>NaN</td>\n",
       "      <td>NaN</td>\n",
       "      <td>371</td>\n",
       "    </tr>\n",
       "    <tr>\n",
       "      <th>550065</th>\n",
       "      <td>1006036</td>\n",
       "      <td>P00375436</td>\n",
       "      <td>F</td>\n",
       "      <td>26-35</td>\n",
       "      <td>15</td>\n",
       "      <td>B</td>\n",
       "      <td>4+</td>\n",
       "      <td>1</td>\n",
       "      <td>20</td>\n",
       "      <td>NaN</td>\n",
       "      <td>NaN</td>\n",
       "      <td>137</td>\n",
       "    </tr>\n",
       "    <tr>\n",
       "      <th>550066</th>\n",
       "      <td>1006038</td>\n",
       "      <td>P00375436</td>\n",
       "      <td>F</td>\n",
       "      <td>55+</td>\n",
       "      <td>1</td>\n",
       "      <td>C</td>\n",
       "      <td>2</td>\n",
       "      <td>0</td>\n",
       "      <td>20</td>\n",
       "      <td>NaN</td>\n",
       "      <td>NaN</td>\n",
       "      <td>365</td>\n",
       "    </tr>\n",
       "    <tr>\n",
       "      <th>550067</th>\n",
       "      <td>1006039</td>\n",
       "      <td>P00371644</td>\n",
       "      <td>F</td>\n",
       "      <td>46-50</td>\n",
       "      <td>0</td>\n",
       "      <td>B</td>\n",
       "      <td>4+</td>\n",
       "      <td>1</td>\n",
       "      <td>20</td>\n",
       "      <td>NaN</td>\n",
       "      <td>NaN</td>\n",
       "      <td>490</td>\n",
       "    </tr>\n",
       "  </tbody>\n",
       "</table>\n",
       "<p>550068 rows × 12 columns</p>\n",
       "</div>"
      ],
      "text/plain": [
       "        User_ID Product_ID Gender    Age  Occupation City_Category  \\\n",
       "0       1000001  P00069042      F   0-17          10             A   \n",
       "1       1000001  P00248942      F   0-17          10             A   \n",
       "2       1000001  P00087842      F   0-17          10             A   \n",
       "3       1000001  P00085442      F   0-17          10             A   \n",
       "4       1000002  P00285442      M    55+          16             C   \n",
       "...         ...        ...    ...    ...         ...           ...   \n",
       "550063  1006033  P00372445      M  51-55          13             B   \n",
       "550064  1006035  P00375436      F  26-35           1             C   \n",
       "550065  1006036  P00375436      F  26-35          15             B   \n",
       "550066  1006038  P00375436      F    55+           1             C   \n",
       "550067  1006039  P00371644      F  46-50           0             B   \n",
       "\n",
       "       Stay_In_Current_City_Years  Marital_Status  Product_Category_1  \\\n",
       "0                               2               0                   3   \n",
       "1                               2               0                   1   \n",
       "2                               2               0                  12   \n",
       "3                               2               0                  12   \n",
       "4                              4+               0                   8   \n",
       "...                           ...             ...                 ...   \n",
       "550063                          1               1                  20   \n",
       "550064                          3               0                  20   \n",
       "550065                         4+               1                  20   \n",
       "550066                          2               0                  20   \n",
       "550067                         4+               1                  20   \n",
       "\n",
       "        Product_Category_2  Product_Category_3  Purchase  \n",
       "0                      NaN                 NaN      8370  \n",
       "1                      6.0                14.0     15200  \n",
       "2                      NaN                 NaN      1422  \n",
       "3                     14.0                 NaN      1057  \n",
       "4                      NaN                 NaN      7969  \n",
       "...                    ...                 ...       ...  \n",
       "550063                 NaN                 NaN       368  \n",
       "550064                 NaN                 NaN       371  \n",
       "550065                 NaN                 NaN       137  \n",
       "550066                 NaN                 NaN       365  \n",
       "550067                 NaN                 NaN       490  \n",
       "\n",
       "[550068 rows x 12 columns]"
      ]
     },
     "execution_count": 17,
     "metadata": {},
     "output_type": "execute_result"
    }
   ],
   "source": [
    "train"
   ]
  },
  {
   "cell_type": "code",
   "execution_count": 18,
   "id": "3c8896c2",
   "metadata": {
    "execution": {
     "iopub.execute_input": "2023-01-18T12:30:23.136930Z",
     "iopub.status.busy": "2023-01-18T12:30:23.136119Z",
     "iopub.status.idle": "2023-01-18T12:30:23.708976Z",
     "shell.execute_reply": "2023-01-18T12:30:23.707765Z"
    },
    "papermill": {
     "duration": 0.600202,
     "end_time": "2023-01-18T12:30:23.711629",
     "exception": false,
     "start_time": "2023-01-18T12:30:23.111427",
     "status": "completed"
    },
    "tags": []
   },
   "outputs": [],
   "source": [
    "train['Product_ID'] = train['Product_ID'].str.replace('P00', '')\n",
    "ss = StandardScaler()\n",
    "train['Product_ID'] = ss.fit_transform(train['Product_ID'].values.reshape(-1,1))\n",
    "# Replacing 'P00' with no values and scaling the ProductID column."
   ]
  },
  {
   "cell_type": "code",
   "execution_count": 19,
   "id": "0a22800a",
   "metadata": {
    "execution": {
     "iopub.execute_input": "2023-01-18T12:30:23.759376Z",
     "iopub.status.busy": "2023-01-18T12:30:23.758972Z",
     "iopub.status.idle": "2023-01-18T12:30:23.821821Z",
     "shell.execute_reply": "2023-01-18T12:30:23.820813Z"
    },
    "papermill": {
     "duration": 0.089944,
     "end_time": "2023-01-18T12:30:23.824446",
     "exception": false,
     "start_time": "2023-01-18T12:30:23.734502",
     "status": "completed"
    },
    "tags": []
   },
   "outputs": [],
   "source": [
    "train.drop(['Product_Category_3'],axis=1,inplace=True)\n",
    "## There are more than 50% missing values present in the Product_category_column,\n",
    "## so we will drop that column"
   ]
  },
  {
   "cell_type": "code",
   "execution_count": 20,
   "id": "fa1bd9ae",
   "metadata": {
    "execution": {
     "iopub.execute_input": "2023-01-18T12:30:23.873102Z",
     "iopub.status.busy": "2023-01-18T12:30:23.872300Z",
     "iopub.status.idle": "2023-01-18T12:30:23.887526Z",
     "shell.execute_reply": "2023-01-18T12:30:23.886618Z"
    },
    "papermill": {
     "duration": 0.042432,
     "end_time": "2023-01-18T12:30:23.890094",
     "exception": false,
     "start_time": "2023-01-18T12:30:23.847662",
     "status": "completed"
    },
    "tags": []
   },
   "outputs": [],
   "source": [
    "train['Product_Category_2']=train['Product_Category_2'].fillna(train['Product_Category_2'].mean())\n",
    "## The missing data in the product category 2 column have been imputed using mean."
   ]
  },
  {
   "cell_type": "code",
   "execution_count": 21,
   "id": "7893972b",
   "metadata": {
    "execution": {
     "iopub.execute_input": "2023-01-18T12:30:23.939168Z",
     "iopub.status.busy": "2023-01-18T12:30:23.938028Z",
     "iopub.status.idle": "2023-01-18T12:30:24.049588Z",
     "shell.execute_reply": "2023-01-18T12:30:24.048477Z"
    },
    "papermill": {
     "duration": 0.138512,
     "end_time": "2023-01-18T12:30:24.052008",
     "exception": false,
     "start_time": "2023-01-18T12:30:23.913496",
     "status": "completed"
    },
    "tags": []
   },
   "outputs": [
    {
     "data": {
      "text/plain": [
       "User_ID                       0\n",
       "Product_ID                    0\n",
       "Gender                        0\n",
       "Age                           0\n",
       "Occupation                    0\n",
       "City_Category                 0\n",
       "Stay_In_Current_City_Years    0\n",
       "Marital_Status                0\n",
       "Product_Category_1            0\n",
       "Product_Category_2            0\n",
       "Purchase                      0\n",
       "dtype: int64"
      ]
     },
     "execution_count": 21,
     "metadata": {},
     "output_type": "execute_result"
    }
   ],
   "source": [
    "train.isnull().sum()"
   ]
  },
  {
   "cell_type": "markdown",
   "id": "63c23e6e",
   "metadata": {
    "papermill": {
     "duration": 0.024356,
     "end_time": "2023-01-18T12:30:24.100264",
     "exception": false,
     "start_time": "2023-01-18T12:30:24.075908",
     "status": "completed"
    },
    "tags": []
   },
   "source": [
    "As we can see the missing values have been successfully imputed and now there are no null values present in the dataset"
   ]
  },
  {
   "cell_type": "code",
   "execution_count": 22,
   "id": "ffc487b5",
   "metadata": {
    "execution": {
     "iopub.execute_input": "2023-01-18T12:30:24.149505Z",
     "iopub.status.busy": "2023-01-18T12:30:24.148923Z",
     "iopub.status.idle": "2023-01-18T12:30:24.168139Z",
     "shell.execute_reply": "2023-01-18T12:30:24.167353Z"
    },
    "papermill": {
     "duration": 0.046172,
     "end_time": "2023-01-18T12:30:24.170249",
     "exception": false,
     "start_time": "2023-01-18T12:30:24.124077",
     "status": "completed"
    },
    "tags": []
   },
   "outputs": [
    {
     "data": {
      "text/html": [
       "<div>\n",
       "<style scoped>\n",
       "    .dataframe tbody tr th:only-of-type {\n",
       "        vertical-align: middle;\n",
       "    }\n",
       "\n",
       "    .dataframe tbody tr th {\n",
       "        vertical-align: top;\n",
       "    }\n",
       "\n",
       "    .dataframe thead th {\n",
       "        text-align: right;\n",
       "    }\n",
       "</style>\n",
       "<table border=\"1\" class=\"dataframe\">\n",
       "  <thead>\n",
       "    <tr style=\"text-align: right;\">\n",
       "      <th></th>\n",
       "      <th>User_ID</th>\n",
       "      <th>Product_ID</th>\n",
       "      <th>Gender</th>\n",
       "      <th>Age</th>\n",
       "      <th>Occupation</th>\n",
       "      <th>City_Category</th>\n",
       "      <th>Stay_In_Current_City_Years</th>\n",
       "      <th>Marital_Status</th>\n",
       "      <th>Product_Category_1</th>\n",
       "      <th>Product_Category_2</th>\n",
       "      <th>Purchase</th>\n",
       "    </tr>\n",
       "  </thead>\n",
       "  <tbody>\n",
       "    <tr>\n",
       "      <th>0</th>\n",
       "      <td>1000001</td>\n",
       "      <td>-1.028774</td>\n",
       "      <td>F</td>\n",
       "      <td>0-17</td>\n",
       "      <td>10</td>\n",
       "      <td>A</td>\n",
       "      <td>2</td>\n",
       "      <td>0</td>\n",
       "      <td>3</td>\n",
       "      <td>9.842329</td>\n",
       "      <td>8370</td>\n",
       "    </tr>\n",
       "    <tr>\n",
       "      <th>1</th>\n",
       "      <td>1000001</td>\n",
       "      <td>0.722139</td>\n",
       "      <td>F</td>\n",
       "      <td>0-17</td>\n",
       "      <td>10</td>\n",
       "      <td>A</td>\n",
       "      <td>2</td>\n",
       "      <td>0</td>\n",
       "      <td>1</td>\n",
       "      <td>6.000000</td>\n",
       "      <td>15200</td>\n",
       "    </tr>\n",
       "    <tr>\n",
       "      <th>2</th>\n",
       "      <td>1000001</td>\n",
       "      <td>-0.845799</td>\n",
       "      <td>F</td>\n",
       "      <td>0-17</td>\n",
       "      <td>10</td>\n",
       "      <td>A</td>\n",
       "      <td>2</td>\n",
       "      <td>0</td>\n",
       "      <td>12</td>\n",
       "      <td>9.842329</td>\n",
       "      <td>1422</td>\n",
       "    </tr>\n",
       "    <tr>\n",
       "      <th>3</th>\n",
       "      <td>1000001</td>\n",
       "      <td>-0.869157</td>\n",
       "      <td>F</td>\n",
       "      <td>0-17</td>\n",
       "      <td>10</td>\n",
       "      <td>A</td>\n",
       "      <td>2</td>\n",
       "      <td>0</td>\n",
       "      <td>12</td>\n",
       "      <td>14.000000</td>\n",
       "      <td>1057</td>\n",
       "    </tr>\n",
       "    <tr>\n",
       "      <th>4</th>\n",
       "      <td>1000002</td>\n",
       "      <td>1.077382</td>\n",
       "      <td>M</td>\n",
       "      <td>55+</td>\n",
       "      <td>16</td>\n",
       "      <td>C</td>\n",
       "      <td>4+</td>\n",
       "      <td>0</td>\n",
       "      <td>8</td>\n",
       "      <td>9.842329</td>\n",
       "      <td>7969</td>\n",
       "    </tr>\n",
       "    <tr>\n",
       "      <th>...</th>\n",
       "      <td>...</td>\n",
       "      <td>...</td>\n",
       "      <td>...</td>\n",
       "      <td>...</td>\n",
       "      <td>...</td>\n",
       "      <td>...</td>\n",
       "      <td>...</td>\n",
       "      <td>...</td>\n",
       "      <td>...</td>\n",
       "      <td>...</td>\n",
       "      <td>...</td>\n",
       "    </tr>\n",
       "    <tr>\n",
       "      <th>550063</th>\n",
       "      <td>1006033</td>\n",
       "      <td>1.924156</td>\n",
       "      <td>M</td>\n",
       "      <td>51-55</td>\n",
       "      <td>13</td>\n",
       "      <td>B</td>\n",
       "      <td>1</td>\n",
       "      <td>1</td>\n",
       "      <td>20</td>\n",
       "      <td>9.842329</td>\n",
       "      <td>368</td>\n",
       "    </tr>\n",
       "    <tr>\n",
       "      <th>550064</th>\n",
       "      <td>1006035</td>\n",
       "      <td>1.953267</td>\n",
       "      <td>F</td>\n",
       "      <td>26-35</td>\n",
       "      <td>1</td>\n",
       "      <td>C</td>\n",
       "      <td>3</td>\n",
       "      <td>0</td>\n",
       "      <td>20</td>\n",
       "      <td>9.842329</td>\n",
       "      <td>371</td>\n",
       "    </tr>\n",
       "    <tr>\n",
       "      <th>550065</th>\n",
       "      <td>1006036</td>\n",
       "      <td>1.953267</td>\n",
       "      <td>F</td>\n",
       "      <td>26-35</td>\n",
       "      <td>15</td>\n",
       "      <td>B</td>\n",
       "      <td>4+</td>\n",
       "      <td>1</td>\n",
       "      <td>20</td>\n",
       "      <td>9.842329</td>\n",
       "      <td>137</td>\n",
       "    </tr>\n",
       "    <tr>\n",
       "      <th>550066</th>\n",
       "      <td>1006038</td>\n",
       "      <td>1.953267</td>\n",
       "      <td>F</td>\n",
       "      <td>55+</td>\n",
       "      <td>1</td>\n",
       "      <td>C</td>\n",
       "      <td>2</td>\n",
       "      <td>0</td>\n",
       "      <td>20</td>\n",
       "      <td>9.842329</td>\n",
       "      <td>365</td>\n",
       "    </tr>\n",
       "    <tr>\n",
       "      <th>550067</th>\n",
       "      <td>1006039</td>\n",
       "      <td>1.916360</td>\n",
       "      <td>F</td>\n",
       "      <td>46-50</td>\n",
       "      <td>0</td>\n",
       "      <td>B</td>\n",
       "      <td>4+</td>\n",
       "      <td>1</td>\n",
       "      <td>20</td>\n",
       "      <td>9.842329</td>\n",
       "      <td>490</td>\n",
       "    </tr>\n",
       "  </tbody>\n",
       "</table>\n",
       "<p>550068 rows × 11 columns</p>\n",
       "</div>"
      ],
      "text/plain": [
       "        User_ID  Product_ID Gender    Age  Occupation City_Category  \\\n",
       "0       1000001   -1.028774      F   0-17          10             A   \n",
       "1       1000001    0.722139      F   0-17          10             A   \n",
       "2       1000001   -0.845799      F   0-17          10             A   \n",
       "3       1000001   -0.869157      F   0-17          10             A   \n",
       "4       1000002    1.077382      M    55+          16             C   \n",
       "...         ...         ...    ...    ...         ...           ...   \n",
       "550063  1006033    1.924156      M  51-55          13             B   \n",
       "550064  1006035    1.953267      F  26-35           1             C   \n",
       "550065  1006036    1.953267      F  26-35          15             B   \n",
       "550066  1006038    1.953267      F    55+           1             C   \n",
       "550067  1006039    1.916360      F  46-50           0             B   \n",
       "\n",
       "       Stay_In_Current_City_Years  Marital_Status  Product_Category_1  \\\n",
       "0                               2               0                   3   \n",
       "1                               2               0                   1   \n",
       "2                               2               0                  12   \n",
       "3                               2               0                  12   \n",
       "4                              4+               0                   8   \n",
       "...                           ...             ...                 ...   \n",
       "550063                          1               1                  20   \n",
       "550064                          3               0                  20   \n",
       "550065                         4+               1                  20   \n",
       "550066                          2               0                  20   \n",
       "550067                         4+               1                  20   \n",
       "\n",
       "        Product_Category_2  Purchase  \n",
       "0                 9.842329      8370  \n",
       "1                 6.000000     15200  \n",
       "2                 9.842329      1422  \n",
       "3                14.000000      1057  \n",
       "4                 9.842329      7969  \n",
       "...                    ...       ...  \n",
       "550063            9.842329       368  \n",
       "550064            9.842329       371  \n",
       "550065            9.842329       137  \n",
       "550066            9.842329       365  \n",
       "550067            9.842329       490  \n",
       "\n",
       "[550068 rows x 11 columns]"
      ]
     },
     "execution_count": 22,
     "metadata": {},
     "output_type": "execute_result"
    }
   ],
   "source": [
    "train"
   ]
  },
  {
   "cell_type": "markdown",
   "id": "7a34b818",
   "metadata": {
    "papermill": {
     "duration": 0.023953,
     "end_time": "2023-01-18T12:30:24.218420",
     "exception": false,
     "start_time": "2023-01-18T12:30:24.194467",
     "status": "completed"
    },
    "tags": []
   },
   "source": [
    "### Label Encoding\n",
    "it's a technique used to turn categorical variables to numeric values."
   ]
  },
  {
   "cell_type": "code",
   "execution_count": 23,
   "id": "8c85fdc6",
   "metadata": {
    "execution": {
     "iopub.execute_input": "2023-01-18T12:30:24.268914Z",
     "iopub.status.busy": "2023-01-18T12:30:24.268456Z",
     "iopub.status.idle": "2023-01-18T12:30:24.673303Z",
     "shell.execute_reply": "2023-01-18T12:30:24.672234Z"
    },
    "papermill": {
     "duration": 0.432945,
     "end_time": "2023-01-18T12:30:24.675650",
     "exception": false,
     "start_time": "2023-01-18T12:30:24.242705",
     "status": "completed"
    },
    "tags": []
   },
   "outputs": [
    {
     "data": {
      "text/plain": [
       "User_ID                         int64\n",
       "Product_ID                    float64\n",
       "Gender                          int64\n",
       "Age                             int64\n",
       "Occupation                      int64\n",
       "City_Category                   int64\n",
       "Stay_In_Current_City_Years     object\n",
       "Marital_Status                  int64\n",
       "Product_Category_1              int64\n",
       "Product_Category_2            float64\n",
       "Purchase                        int64\n",
       "dtype: object"
      ]
     },
     "execution_count": 23,
     "metadata": {},
     "output_type": "execute_result"
    }
   ],
   "source": [
    "cat_cols=['Gender','City_Category','Age']\n",
    "le=LabelEncoder()\n",
    "for i in cat_cols:\n",
    "    train[i]=le.fit_transform(train[i])\n",
    "train.dtypes"
   ]
  },
  {
   "cell_type": "code",
   "execution_count": 24,
   "id": "5a86e44a",
   "metadata": {
    "execution": {
     "iopub.execute_input": "2023-01-18T12:30:24.724937Z",
     "iopub.status.busy": "2023-01-18T12:30:24.724502Z",
     "iopub.status.idle": "2023-01-18T12:30:24.743485Z",
     "shell.execute_reply": "2023-01-18T12:30:24.742728Z"
    },
    "papermill": {
     "duration": 0.045823,
     "end_time": "2023-01-18T12:30:24.745450",
     "exception": false,
     "start_time": "2023-01-18T12:30:24.699627",
     "status": "completed"
    },
    "tags": []
   },
   "outputs": [
    {
     "data": {
      "text/html": [
       "<div>\n",
       "<style scoped>\n",
       "    .dataframe tbody tr th:only-of-type {\n",
       "        vertical-align: middle;\n",
       "    }\n",
       "\n",
       "    .dataframe tbody tr th {\n",
       "        vertical-align: top;\n",
       "    }\n",
       "\n",
       "    .dataframe thead th {\n",
       "        text-align: right;\n",
       "    }\n",
       "</style>\n",
       "<table border=\"1\" class=\"dataframe\">\n",
       "  <thead>\n",
       "    <tr style=\"text-align: right;\">\n",
       "      <th></th>\n",
       "      <th>User_ID</th>\n",
       "      <th>Product_ID</th>\n",
       "      <th>Gender</th>\n",
       "      <th>Age</th>\n",
       "      <th>Occupation</th>\n",
       "      <th>City_Category</th>\n",
       "      <th>Stay_In_Current_City_Years</th>\n",
       "      <th>Marital_Status</th>\n",
       "      <th>Product_Category_1</th>\n",
       "      <th>Product_Category_2</th>\n",
       "      <th>Purchase</th>\n",
       "    </tr>\n",
       "  </thead>\n",
       "  <tbody>\n",
       "    <tr>\n",
       "      <th>0</th>\n",
       "      <td>1000001</td>\n",
       "      <td>-1.028774</td>\n",
       "      <td>0</td>\n",
       "      <td>0</td>\n",
       "      <td>10</td>\n",
       "      <td>0</td>\n",
       "      <td>2</td>\n",
       "      <td>0</td>\n",
       "      <td>3</td>\n",
       "      <td>9.842329</td>\n",
       "      <td>8370</td>\n",
       "    </tr>\n",
       "    <tr>\n",
       "      <th>1</th>\n",
       "      <td>1000001</td>\n",
       "      <td>0.722139</td>\n",
       "      <td>0</td>\n",
       "      <td>0</td>\n",
       "      <td>10</td>\n",
       "      <td>0</td>\n",
       "      <td>2</td>\n",
       "      <td>0</td>\n",
       "      <td>1</td>\n",
       "      <td>6.000000</td>\n",
       "      <td>15200</td>\n",
       "    </tr>\n",
       "    <tr>\n",
       "      <th>2</th>\n",
       "      <td>1000001</td>\n",
       "      <td>-0.845799</td>\n",
       "      <td>0</td>\n",
       "      <td>0</td>\n",
       "      <td>10</td>\n",
       "      <td>0</td>\n",
       "      <td>2</td>\n",
       "      <td>0</td>\n",
       "      <td>12</td>\n",
       "      <td>9.842329</td>\n",
       "      <td>1422</td>\n",
       "    </tr>\n",
       "    <tr>\n",
       "      <th>3</th>\n",
       "      <td>1000001</td>\n",
       "      <td>-0.869157</td>\n",
       "      <td>0</td>\n",
       "      <td>0</td>\n",
       "      <td>10</td>\n",
       "      <td>0</td>\n",
       "      <td>2</td>\n",
       "      <td>0</td>\n",
       "      <td>12</td>\n",
       "      <td>14.000000</td>\n",
       "      <td>1057</td>\n",
       "    </tr>\n",
       "    <tr>\n",
       "      <th>4</th>\n",
       "      <td>1000002</td>\n",
       "      <td>1.077382</td>\n",
       "      <td>1</td>\n",
       "      <td>6</td>\n",
       "      <td>16</td>\n",
       "      <td>2</td>\n",
       "      <td>4+</td>\n",
       "      <td>0</td>\n",
       "      <td>8</td>\n",
       "      <td>9.842329</td>\n",
       "      <td>7969</td>\n",
       "    </tr>\n",
       "    <tr>\n",
       "      <th>...</th>\n",
       "      <td>...</td>\n",
       "      <td>...</td>\n",
       "      <td>...</td>\n",
       "      <td>...</td>\n",
       "      <td>...</td>\n",
       "      <td>...</td>\n",
       "      <td>...</td>\n",
       "      <td>...</td>\n",
       "      <td>...</td>\n",
       "      <td>...</td>\n",
       "      <td>...</td>\n",
       "    </tr>\n",
       "    <tr>\n",
       "      <th>550063</th>\n",
       "      <td>1006033</td>\n",
       "      <td>1.924156</td>\n",
       "      <td>1</td>\n",
       "      <td>5</td>\n",
       "      <td>13</td>\n",
       "      <td>1</td>\n",
       "      <td>1</td>\n",
       "      <td>1</td>\n",
       "      <td>20</td>\n",
       "      <td>9.842329</td>\n",
       "      <td>368</td>\n",
       "    </tr>\n",
       "    <tr>\n",
       "      <th>550064</th>\n",
       "      <td>1006035</td>\n",
       "      <td>1.953267</td>\n",
       "      <td>0</td>\n",
       "      <td>2</td>\n",
       "      <td>1</td>\n",
       "      <td>2</td>\n",
       "      <td>3</td>\n",
       "      <td>0</td>\n",
       "      <td>20</td>\n",
       "      <td>9.842329</td>\n",
       "      <td>371</td>\n",
       "    </tr>\n",
       "    <tr>\n",
       "      <th>550065</th>\n",
       "      <td>1006036</td>\n",
       "      <td>1.953267</td>\n",
       "      <td>0</td>\n",
       "      <td>2</td>\n",
       "      <td>15</td>\n",
       "      <td>1</td>\n",
       "      <td>4+</td>\n",
       "      <td>1</td>\n",
       "      <td>20</td>\n",
       "      <td>9.842329</td>\n",
       "      <td>137</td>\n",
       "    </tr>\n",
       "    <tr>\n",
       "      <th>550066</th>\n",
       "      <td>1006038</td>\n",
       "      <td>1.953267</td>\n",
       "      <td>0</td>\n",
       "      <td>6</td>\n",
       "      <td>1</td>\n",
       "      <td>2</td>\n",
       "      <td>2</td>\n",
       "      <td>0</td>\n",
       "      <td>20</td>\n",
       "      <td>9.842329</td>\n",
       "      <td>365</td>\n",
       "    </tr>\n",
       "    <tr>\n",
       "      <th>550067</th>\n",
       "      <td>1006039</td>\n",
       "      <td>1.916360</td>\n",
       "      <td>0</td>\n",
       "      <td>4</td>\n",
       "      <td>0</td>\n",
       "      <td>1</td>\n",
       "      <td>4+</td>\n",
       "      <td>1</td>\n",
       "      <td>20</td>\n",
       "      <td>9.842329</td>\n",
       "      <td>490</td>\n",
       "    </tr>\n",
       "  </tbody>\n",
       "</table>\n",
       "<p>550068 rows × 11 columns</p>\n",
       "</div>"
      ],
      "text/plain": [
       "        User_ID  Product_ID  Gender  Age  Occupation  City_Category  \\\n",
       "0       1000001   -1.028774       0    0          10              0   \n",
       "1       1000001    0.722139       0    0          10              0   \n",
       "2       1000001   -0.845799       0    0          10              0   \n",
       "3       1000001   -0.869157       0    0          10              0   \n",
       "4       1000002    1.077382       1    6          16              2   \n",
       "...         ...         ...     ...  ...         ...            ...   \n",
       "550063  1006033    1.924156       1    5          13              1   \n",
       "550064  1006035    1.953267       0    2           1              2   \n",
       "550065  1006036    1.953267       0    2          15              1   \n",
       "550066  1006038    1.953267       0    6           1              2   \n",
       "550067  1006039    1.916360       0    4           0              1   \n",
       "\n",
       "       Stay_In_Current_City_Years  Marital_Status  Product_Category_1  \\\n",
       "0                               2               0                   3   \n",
       "1                               2               0                   1   \n",
       "2                               2               0                  12   \n",
       "3                               2               0                  12   \n",
       "4                              4+               0                   8   \n",
       "...                           ...             ...                 ...   \n",
       "550063                          1               1                  20   \n",
       "550064                          3               0                  20   \n",
       "550065                         4+               1                  20   \n",
       "550066                          2               0                  20   \n",
       "550067                         4+               1                  20   \n",
       "\n",
       "        Product_Category_2  Purchase  \n",
       "0                 9.842329      8370  \n",
       "1                 6.000000     15200  \n",
       "2                 9.842329      1422  \n",
       "3                14.000000      1057  \n",
       "4                 9.842329      7969  \n",
       "...                    ...       ...  \n",
       "550063            9.842329       368  \n",
       "550064            9.842329       371  \n",
       "550065            9.842329       137  \n",
       "550066            9.842329       365  \n",
       "550067            9.842329       490  \n",
       "\n",
       "[550068 rows x 11 columns]"
      ]
     },
     "execution_count": 24,
     "metadata": {},
     "output_type": "execute_result"
    }
   ],
   "source": [
    "train"
   ]
  },
  {
   "cell_type": "code",
   "execution_count": 25,
   "id": "aa04d184",
   "metadata": {
    "execution": {
     "iopub.execute_input": "2023-01-18T12:30:24.796515Z",
     "iopub.status.busy": "2023-01-18T12:30:24.795698Z",
     "iopub.status.idle": "2023-01-18T12:30:24.823515Z",
     "shell.execute_reply": "2023-01-18T12:30:24.822342Z"
    },
    "papermill": {
     "duration": 0.056171,
     "end_time": "2023-01-18T12:30:24.826088",
     "exception": false,
     "start_time": "2023-01-18T12:30:24.769917",
     "status": "completed"
    },
    "tags": []
   },
   "outputs": [],
   "source": [
    "train['Stay_In_Current_City_Years']=train['Stay_In_Current_City_Years'].replace('4+','4')\n",
    "## Values in the Stay_In_Current_City_Years column has been changed from 4+ to 4"
   ]
  },
  {
   "cell_type": "code",
   "execution_count": 26,
   "id": "b57c349c",
   "metadata": {
    "execution": {
     "iopub.execute_input": "2023-01-18T12:30:24.876507Z",
     "iopub.status.busy": "2023-01-18T12:30:24.876105Z",
     "iopub.status.idle": "2023-01-18T12:30:24.938469Z",
     "shell.execute_reply": "2023-01-18T12:30:24.937543Z"
    },
    "papermill": {
     "duration": 0.09095,
     "end_time": "2023-01-18T12:30:24.941036",
     "exception": false,
     "start_time": "2023-01-18T12:30:24.850086",
     "status": "completed"
    },
    "tags": []
   },
   "outputs": [],
   "source": [
    "train['Gender']=train['Gender'].astype(int)\n",
    "train['Age']=train['Age'].astype(int)\n",
    "train['Stay_In_Current_City_Years']=train['Stay_In_Current_City_Years'].astype(int)\n",
    "## The gender, Age and Stay_In_Current_City_Years values are changed to integer types."
   ]
  },
  {
   "cell_type": "code",
   "execution_count": 27,
   "id": "083a1acb",
   "metadata": {
    "execution": {
     "iopub.execute_input": "2023-01-18T12:30:24.991359Z",
     "iopub.status.busy": "2023-01-18T12:30:24.990990Z",
     "iopub.status.idle": "2023-01-18T12:30:25.003372Z",
     "shell.execute_reply": "2023-01-18T12:30:25.002426Z"
    },
    "papermill": {
     "duration": 0.040776,
     "end_time": "2023-01-18T12:30:25.006135",
     "exception": false,
     "start_time": "2023-01-18T12:30:24.965359",
     "status": "completed"
    },
    "tags": []
   },
   "outputs": [],
   "source": [
    "train['City_Category']=train['City_Category'].astype('category')\n",
    "## The type of city_category has been changed from int to category"
   ]
  },
  {
   "cell_type": "code",
   "execution_count": 28,
   "id": "5cd5da31",
   "metadata": {
    "execution": {
     "iopub.execute_input": "2023-01-18T12:30:25.057256Z",
     "iopub.status.busy": "2023-01-18T12:30:25.056885Z",
     "iopub.status.idle": "2023-01-18T12:30:25.078846Z",
     "shell.execute_reply": "2023-01-18T12:30:25.077779Z"
    },
    "papermill": {
     "duration": 0.049913,
     "end_time": "2023-01-18T12:30:25.081325",
     "exception": false,
     "start_time": "2023-01-18T12:30:25.031412",
     "status": "completed"
    },
    "tags": []
   },
   "outputs": [
    {
     "data": {
      "text/html": [
       "<div>\n",
       "<style scoped>\n",
       "    .dataframe tbody tr th:only-of-type {\n",
       "        vertical-align: middle;\n",
       "    }\n",
       "\n",
       "    .dataframe tbody tr th {\n",
       "        vertical-align: top;\n",
       "    }\n",
       "\n",
       "    .dataframe thead th {\n",
       "        text-align: right;\n",
       "    }\n",
       "</style>\n",
       "<table border=\"1\" class=\"dataframe\">\n",
       "  <thead>\n",
       "    <tr style=\"text-align: right;\">\n",
       "      <th></th>\n",
       "      <th>User_ID</th>\n",
       "      <th>Product_ID</th>\n",
       "      <th>Gender</th>\n",
       "      <th>Age</th>\n",
       "      <th>Occupation</th>\n",
       "      <th>City_Category</th>\n",
       "      <th>Stay_In_Current_City_Years</th>\n",
       "      <th>Marital_Status</th>\n",
       "      <th>Product_Category_1</th>\n",
       "      <th>Product_Category_2</th>\n",
       "      <th>Purchase</th>\n",
       "    </tr>\n",
       "  </thead>\n",
       "  <tbody>\n",
       "    <tr>\n",
       "      <th>0</th>\n",
       "      <td>1000001</td>\n",
       "      <td>-1.028774</td>\n",
       "      <td>0</td>\n",
       "      <td>0</td>\n",
       "      <td>10</td>\n",
       "      <td>0</td>\n",
       "      <td>2</td>\n",
       "      <td>0</td>\n",
       "      <td>3</td>\n",
       "      <td>9.842329</td>\n",
       "      <td>8370</td>\n",
       "    </tr>\n",
       "    <tr>\n",
       "      <th>1</th>\n",
       "      <td>1000001</td>\n",
       "      <td>0.722139</td>\n",
       "      <td>0</td>\n",
       "      <td>0</td>\n",
       "      <td>10</td>\n",
       "      <td>0</td>\n",
       "      <td>2</td>\n",
       "      <td>0</td>\n",
       "      <td>1</td>\n",
       "      <td>6.000000</td>\n",
       "      <td>15200</td>\n",
       "    </tr>\n",
       "    <tr>\n",
       "      <th>2</th>\n",
       "      <td>1000001</td>\n",
       "      <td>-0.845799</td>\n",
       "      <td>0</td>\n",
       "      <td>0</td>\n",
       "      <td>10</td>\n",
       "      <td>0</td>\n",
       "      <td>2</td>\n",
       "      <td>0</td>\n",
       "      <td>12</td>\n",
       "      <td>9.842329</td>\n",
       "      <td>1422</td>\n",
       "    </tr>\n",
       "    <tr>\n",
       "      <th>3</th>\n",
       "      <td>1000001</td>\n",
       "      <td>-0.869157</td>\n",
       "      <td>0</td>\n",
       "      <td>0</td>\n",
       "      <td>10</td>\n",
       "      <td>0</td>\n",
       "      <td>2</td>\n",
       "      <td>0</td>\n",
       "      <td>12</td>\n",
       "      <td>14.000000</td>\n",
       "      <td>1057</td>\n",
       "    </tr>\n",
       "    <tr>\n",
       "      <th>4</th>\n",
       "      <td>1000002</td>\n",
       "      <td>1.077382</td>\n",
       "      <td>1</td>\n",
       "      <td>6</td>\n",
       "      <td>16</td>\n",
       "      <td>2</td>\n",
       "      <td>4</td>\n",
       "      <td>0</td>\n",
       "      <td>8</td>\n",
       "      <td>9.842329</td>\n",
       "      <td>7969</td>\n",
       "    </tr>\n",
       "    <tr>\n",
       "      <th>...</th>\n",
       "      <td>...</td>\n",
       "      <td>...</td>\n",
       "      <td>...</td>\n",
       "      <td>...</td>\n",
       "      <td>...</td>\n",
       "      <td>...</td>\n",
       "      <td>...</td>\n",
       "      <td>...</td>\n",
       "      <td>...</td>\n",
       "      <td>...</td>\n",
       "      <td>...</td>\n",
       "    </tr>\n",
       "    <tr>\n",
       "      <th>550063</th>\n",
       "      <td>1006033</td>\n",
       "      <td>1.924156</td>\n",
       "      <td>1</td>\n",
       "      <td>5</td>\n",
       "      <td>13</td>\n",
       "      <td>1</td>\n",
       "      <td>1</td>\n",
       "      <td>1</td>\n",
       "      <td>20</td>\n",
       "      <td>9.842329</td>\n",
       "      <td>368</td>\n",
       "    </tr>\n",
       "    <tr>\n",
       "      <th>550064</th>\n",
       "      <td>1006035</td>\n",
       "      <td>1.953267</td>\n",
       "      <td>0</td>\n",
       "      <td>2</td>\n",
       "      <td>1</td>\n",
       "      <td>2</td>\n",
       "      <td>3</td>\n",
       "      <td>0</td>\n",
       "      <td>20</td>\n",
       "      <td>9.842329</td>\n",
       "      <td>371</td>\n",
       "    </tr>\n",
       "    <tr>\n",
       "      <th>550065</th>\n",
       "      <td>1006036</td>\n",
       "      <td>1.953267</td>\n",
       "      <td>0</td>\n",
       "      <td>2</td>\n",
       "      <td>15</td>\n",
       "      <td>1</td>\n",
       "      <td>4</td>\n",
       "      <td>1</td>\n",
       "      <td>20</td>\n",
       "      <td>9.842329</td>\n",
       "      <td>137</td>\n",
       "    </tr>\n",
       "    <tr>\n",
       "      <th>550066</th>\n",
       "      <td>1006038</td>\n",
       "      <td>1.953267</td>\n",
       "      <td>0</td>\n",
       "      <td>6</td>\n",
       "      <td>1</td>\n",
       "      <td>2</td>\n",
       "      <td>2</td>\n",
       "      <td>0</td>\n",
       "      <td>20</td>\n",
       "      <td>9.842329</td>\n",
       "      <td>365</td>\n",
       "    </tr>\n",
       "    <tr>\n",
       "      <th>550067</th>\n",
       "      <td>1006039</td>\n",
       "      <td>1.916360</td>\n",
       "      <td>0</td>\n",
       "      <td>4</td>\n",
       "      <td>0</td>\n",
       "      <td>1</td>\n",
       "      <td>4</td>\n",
       "      <td>1</td>\n",
       "      <td>20</td>\n",
       "      <td>9.842329</td>\n",
       "      <td>490</td>\n",
       "    </tr>\n",
       "  </tbody>\n",
       "</table>\n",
       "<p>550068 rows × 11 columns</p>\n",
       "</div>"
      ],
      "text/plain": [
       "        User_ID  Product_ID  Gender  Age  Occupation City_Category  \\\n",
       "0       1000001   -1.028774       0    0          10             0   \n",
       "1       1000001    0.722139       0    0          10             0   \n",
       "2       1000001   -0.845799       0    0          10             0   \n",
       "3       1000001   -0.869157       0    0          10             0   \n",
       "4       1000002    1.077382       1    6          16             2   \n",
       "...         ...         ...     ...  ...         ...           ...   \n",
       "550063  1006033    1.924156       1    5          13             1   \n",
       "550064  1006035    1.953267       0    2           1             2   \n",
       "550065  1006036    1.953267       0    2          15             1   \n",
       "550066  1006038    1.953267       0    6           1             2   \n",
       "550067  1006039    1.916360       0    4           0             1   \n",
       "\n",
       "        Stay_In_Current_City_Years  Marital_Status  Product_Category_1  \\\n",
       "0                                2               0                   3   \n",
       "1                                2               0                   1   \n",
       "2                                2               0                  12   \n",
       "3                                2               0                  12   \n",
       "4                                4               0                   8   \n",
       "...                            ...             ...                 ...   \n",
       "550063                           1               1                  20   \n",
       "550064                           3               0                  20   \n",
       "550065                           4               1                  20   \n",
       "550066                           2               0                  20   \n",
       "550067                           4               1                  20   \n",
       "\n",
       "        Product_Category_2  Purchase  \n",
       "0                 9.842329      8370  \n",
       "1                 6.000000     15200  \n",
       "2                 9.842329      1422  \n",
       "3                14.000000      1057  \n",
       "4                 9.842329      7969  \n",
       "...                    ...       ...  \n",
       "550063            9.842329       368  \n",
       "550064            9.842329       371  \n",
       "550065            9.842329       137  \n",
       "550066            9.842329       365  \n",
       "550067            9.842329       490  \n",
       "\n",
       "[550068 rows x 11 columns]"
      ]
     },
     "execution_count": 28,
     "metadata": {},
     "output_type": "execute_result"
    }
   ],
   "source": [
    "train"
   ]
  },
  {
   "cell_type": "markdown",
   "id": "37f01f38",
   "metadata": {
    "papermill": {
     "duration": 0.024883,
     "end_time": "2023-01-18T12:30:25.131058",
     "exception": false,
     "start_time": "2023-01-18T12:30:25.106175",
     "status": "completed"
    },
    "tags": []
   },
   "source": [
    "### Distribution Plot\n",
    "- The distribuion plot shows us how the overall data is distributed in the dataframe.\n",
    "- In probability theory and statistics, skewness is a measure of the asymmetry of the probability distribution of a real-valued random variable about its mean. The skewness value can be positive, zero, negative, or undefined\n",
    "- For a unimodal distribution, negative skew commonly indicates that the tail is on the left side of the distribution, and positive skew indicates that the tail is on the right. \n",
    "- In cases where on tail is long but the other tail is fat, skewness does not obey a simple rule.\n",
    "- For eg. a zero value means that the tails on both sides of the mean balance out overall; this is the case for a symmetric distribution, but can also be true for an asymmetric distribution where on e tail is long and thin, and the other is short but fat."
   ]
  },
  {
   "cell_type": "code",
   "execution_count": 29,
   "id": "d8d91743",
   "metadata": {
    "execution": {
     "iopub.execute_input": "2023-01-18T12:30:25.182447Z",
     "iopub.status.busy": "2023-01-18T12:30:25.182054Z",
     "iopub.status.idle": "2023-01-18T12:30:44.912430Z",
     "shell.execute_reply": "2023-01-18T12:30:44.911299Z"
    },
    "papermill": {
     "duration": 19.759202,
     "end_time": "2023-01-18T12:30:44.915070",
     "exception": false,
     "start_time": "2023-01-18T12:30:25.155868",
     "status": "completed"
    },
    "scrolled": true,
    "tags": []
   },
   "outputs": [
    {
     "name": "stderr",
     "output_type": "stream",
     "text": [
      "/opt/conda/lib/python3.7/site-packages/seaborn/distributions.py:2619: FutureWarning: `distplot` is a deprecated function and will be removed in a future version. Please adapt your code to use either `displot` (a figure-level function with similar flexibility) or `histplot` (an axes-level function for histograms).\n",
      "  warnings.warn(msg, FutureWarning)\n",
      "/opt/conda/lib/python3.7/site-packages/seaborn/distributions.py:2619: FutureWarning: `distplot` is a deprecated function and will be removed in a future version. Please adapt your code to use either `displot` (a figure-level function with similar flexibility) or `histplot` (an axes-level function for histograms).\n",
      "  warnings.warn(msg, FutureWarning)\n",
      "/opt/conda/lib/python3.7/site-packages/seaborn/distributions.py:2619: FutureWarning: `distplot` is a deprecated function and will be removed in a future version. Please adapt your code to use either `displot` (a figure-level function with similar flexibility) or `histplot` (an axes-level function for histograms).\n",
      "  warnings.warn(msg, FutureWarning)\n",
      "/opt/conda/lib/python3.7/site-packages/seaborn/distributions.py:2619: FutureWarning: `distplot` is a deprecated function and will be removed in a future version. Please adapt your code to use either `displot` (a figure-level function with similar flexibility) or `histplot` (an axes-level function for histograms).\n",
      "  warnings.warn(msg, FutureWarning)\n",
      "/opt/conda/lib/python3.7/site-packages/seaborn/distributions.py:2619: FutureWarning: `distplot` is a deprecated function and will be removed in a future version. Please adapt your code to use either `displot` (a figure-level function with similar flexibility) or `histplot` (an axes-level function for histograms).\n",
      "  warnings.warn(msg, FutureWarning)\n",
      "/opt/conda/lib/python3.7/site-packages/seaborn/distributions.py:2619: FutureWarning: `distplot` is a deprecated function and will be removed in a future version. Please adapt your code to use either `displot` (a figure-level function with similar flexibility) or `histplot` (an axes-level function for histograms).\n",
      "  warnings.warn(msg, FutureWarning)\n",
      "/opt/conda/lib/python3.7/site-packages/seaborn/distributions.py:2619: FutureWarning: `distplot` is a deprecated function and will be removed in a future version. Please adapt your code to use either `displot` (a figure-level function with similar flexibility) or `histplot` (an axes-level function for histograms).\n",
      "  warnings.warn(msg, FutureWarning)\n",
      "/opt/conda/lib/python3.7/site-packages/seaborn/distributions.py:2619: FutureWarning: `distplot` is a deprecated function and will be removed in a future version. Please adapt your code to use either `displot` (a figure-level function with similar flexibility) or `histplot` (an axes-level function for histograms).\n",
      "  warnings.warn(msg, FutureWarning)\n",
      "/opt/conda/lib/python3.7/site-packages/seaborn/distributions.py:2619: FutureWarning: `distplot` is a deprecated function and will be removed in a future version. Please adapt your code to use either `displot` (a figure-level function with similar flexibility) or `histplot` (an axes-level function for histograms).\n",
      "  warnings.warn(msg, FutureWarning)\n"
     ]
    },
    {
     "data": {
      "image/png": "[encoded data removed]",
      "text/plain": [
       "<Figure size 720x288 with 9 Axes>"
      ]
     },
     "metadata": {
      "needs_background": "light"
     },
     "output_type": "display_data"
    }
   ],
   "source": [
    "rows=3\n",
    "cols=3\n",
    "fig, ax = plt.subplots(nrows=rows,ncols=cols,figsize=(10,4))\n",
    "col=train.columns\n",
    "index=2\n",
    "for i in range(rows):\n",
    "    for j in range(cols):\n",
    "        sns.distplot(train[col[index]],ax=ax[i][j])\n",
    "        index+=1\n",
    "plt.tight_layout()"
   ]
  },
  {
   "cell_type": "markdown",
   "id": "d4d7383a",
   "metadata": {
    "papermill": {
     "duration": 0.026696,
     "end_time": "2023-01-18T12:30:44.968627",
     "exception": false,
     "start_time": "2023-01-18T12:30:44.941931",
     "status": "completed"
    },
    "tags": []
   },
   "source": [
    "The distribution plot helps us to detect the skewness of the data. Purchase column has skewness"
   ]
  },
  {
   "cell_type": "markdown",
   "id": "557ab2ff",
   "metadata": {
    "papermill": {
     "duration": 0.025819,
     "end_time": "2023-01-18T12:30:45.020487",
     "exception": false,
     "start_time": "2023-01-18T12:30:44.994668",
     "status": "completed"
    },
    "tags": []
   },
   "source": [
    "### Log transformation\n",
    "The log transformation is, arguably, the most popular among the different types of transformation used to transform skewed data to approximately conform to normality. If the original data follows a lon-normal distribution or approximately so, then the log-transformed data follows a normal or near normal distribution."
   ]
  },
  {
   "cell_type": "code",
   "execution_count": 30,
   "id": "6017aab0",
   "metadata": {
    "execution": {
     "iopub.execute_input": "2023-01-18T12:30:45.075470Z",
     "iopub.status.busy": "2023-01-18T12:30:45.075076Z",
     "iopub.status.idle": "2023-01-18T12:30:45.094136Z",
     "shell.execute_reply": "2023-01-18T12:30:45.092917Z"
    },
    "papermill": {
     "duration": 0.049086,
     "end_time": "2023-01-18T12:30:45.096608",
     "exception": false,
     "start_time": "2023-01-18T12:30:45.047522",
     "status": "completed"
    },
    "tags": []
   },
   "outputs": [],
   "source": [
    "train['Purchase']=np.log(train['Purchase'])"
   ]
  },
  {
   "cell_type": "code",
   "execution_count": 31,
   "id": "f6f39517",
   "metadata": {
    "execution": {
     "iopub.execute_input": "2023-01-18T12:30:45.151226Z",
     "iopub.status.busy": "2023-01-18T12:30:45.150038Z",
     "iopub.status.idle": "2023-01-18T12:30:45.238867Z",
     "shell.execute_reply": "2023-01-18T12:30:45.237608Z"
    },
    "papermill": {
     "duration": 0.118805,
     "end_time": "2023-01-18T12:30:45.241328",
     "exception": false,
     "start_time": "2023-01-18T12:30:45.122523",
     "status": "completed"
    },
    "tags": []
   },
   "outputs": [
    {
     "data": {
      "text/html": [
       "<div>\n",
       "<style scoped>\n",
       "    .dataframe tbody tr th:only-of-type {\n",
       "        vertical-align: middle;\n",
       "    }\n",
       "\n",
       "    .dataframe tbody tr th {\n",
       "        vertical-align: top;\n",
       "    }\n",
       "\n",
       "    .dataframe thead th {\n",
       "        text-align: right;\n",
       "    }\n",
       "</style>\n",
       "<table border=\"1\" class=\"dataframe\">\n",
       "  <thead>\n",
       "    <tr style=\"text-align: right;\">\n",
       "      <th></th>\n",
       "      <th>User_ID</th>\n",
       "      <th>Product_ID</th>\n",
       "      <th>Gender</th>\n",
       "      <th>Age</th>\n",
       "      <th>Occupation</th>\n",
       "      <th>Stay_In_Current_City_Years</th>\n",
       "      <th>Marital_Status</th>\n",
       "      <th>Product_Category_1</th>\n",
       "      <th>Product_Category_2</th>\n",
       "      <th>Purchase</th>\n",
       "      <th>City_Category_0</th>\n",
       "      <th>City_Category_1</th>\n",
       "      <th>City_Category_2</th>\n",
       "    </tr>\n",
       "  </thead>\n",
       "  <tbody>\n",
       "    <tr>\n",
       "      <th>0</th>\n",
       "      <td>1000001</td>\n",
       "      <td>-1.028774</td>\n",
       "      <td>0</td>\n",
       "      <td>0</td>\n",
       "      <td>10</td>\n",
       "      <td>2</td>\n",
       "      <td>0</td>\n",
       "      <td>3</td>\n",
       "      <td>9.842329</td>\n",
       "      <td>9.032409</td>\n",
       "      <td>1</td>\n",
       "      <td>0</td>\n",
       "      <td>0</td>\n",
       "    </tr>\n",
       "    <tr>\n",
       "      <th>1</th>\n",
       "      <td>1000001</td>\n",
       "      <td>0.722139</td>\n",
       "      <td>0</td>\n",
       "      <td>0</td>\n",
       "      <td>10</td>\n",
       "      <td>2</td>\n",
       "      <td>0</td>\n",
       "      <td>1</td>\n",
       "      <td>6.000000</td>\n",
       "      <td>9.629051</td>\n",
       "      <td>1</td>\n",
       "      <td>0</td>\n",
       "      <td>0</td>\n",
       "    </tr>\n",
       "    <tr>\n",
       "      <th>2</th>\n",
       "      <td>1000001</td>\n",
       "      <td>-0.845799</td>\n",
       "      <td>0</td>\n",
       "      <td>0</td>\n",
       "      <td>10</td>\n",
       "      <td>2</td>\n",
       "      <td>0</td>\n",
       "      <td>12</td>\n",
       "      <td>9.842329</td>\n",
       "      <td>7.259820</td>\n",
       "      <td>1</td>\n",
       "      <td>0</td>\n",
       "      <td>0</td>\n",
       "    </tr>\n",
       "    <tr>\n",
       "      <th>3</th>\n",
       "      <td>1000001</td>\n",
       "      <td>-0.869157</td>\n",
       "      <td>0</td>\n",
       "      <td>0</td>\n",
       "      <td>10</td>\n",
       "      <td>2</td>\n",
       "      <td>0</td>\n",
       "      <td>12</td>\n",
       "      <td>14.000000</td>\n",
       "      <td>6.963190</td>\n",
       "      <td>1</td>\n",
       "      <td>0</td>\n",
       "      <td>0</td>\n",
       "    </tr>\n",
       "    <tr>\n",
       "      <th>4</th>\n",
       "      <td>1000002</td>\n",
       "      <td>1.077382</td>\n",
       "      <td>1</td>\n",
       "      <td>6</td>\n",
       "      <td>16</td>\n",
       "      <td>4</td>\n",
       "      <td>0</td>\n",
       "      <td>8</td>\n",
       "      <td>9.842329</td>\n",
       "      <td>8.983314</td>\n",
       "      <td>0</td>\n",
       "      <td>0</td>\n",
       "      <td>1</td>\n",
       "    </tr>\n",
       "  </tbody>\n",
       "</table>\n",
       "</div>"
      ],
      "text/plain": [
       "   User_ID  Product_ID  Gender  Age  Occupation  Stay_In_Current_City_Years  \\\n",
       "0  1000001   -1.028774       0    0          10                           2   \n",
       "1  1000001    0.722139       0    0          10                           2   \n",
       "2  1000001   -0.845799       0    0          10                           2   \n",
       "3  1000001   -0.869157       0    0          10                           2   \n",
       "4  1000002    1.077382       1    6          16                           4   \n",
       "\n",
       "   Marital_Status  Product_Category_1  Product_Category_2  Purchase  \\\n",
       "0               0                   3            9.842329  9.032409   \n",
       "1               0                   1            6.000000  9.629051   \n",
       "2               0                  12            9.842329  7.259820   \n",
       "3               0                  12           14.000000  6.963190   \n",
       "4               0                   8            9.842329  8.983314   \n",
       "\n",
       "   City_Category_0  City_Category_1  City_Category_2  \n",
       "0                1                0                0  \n",
       "1                1                0                0  \n",
       "2                1                0                0  \n",
       "3                1                0                0  \n",
       "4                0                0                1  "
      ]
     },
     "execution_count": 31,
     "metadata": {},
     "output_type": "execute_result"
    }
   ],
   "source": [
    "train=pd.get_dummies(train)\n",
    "train.head()\n",
    "## get_dummies() function is used to convert\n",
    "# categorical variable into dummy/indicator variables"
   ]
  },
  {
   "cell_type": "markdown",
   "id": "3cc30a95",
   "metadata": {
    "papermill": {
     "duration": 0.025703,
     "end_time": "2023-01-18T12:30:45.293603",
     "exception": false,
     "start_time": "2023-01-18T12:30:45.267900",
     "status": "completed"
    },
    "tags": []
   },
   "source": [
    "## Train test split"
   ]
  },
  {
   "cell_type": "code",
   "execution_count": 32,
   "id": "bdbb98a3",
   "metadata": {
    "execution": {
     "iopub.execute_input": "2023-01-18T12:30:45.347472Z",
     "iopub.status.busy": "2023-01-18T12:30:45.347067Z",
     "iopub.status.idle": "2023-01-18T12:30:45.396486Z",
     "shell.execute_reply": "2023-01-18T12:30:45.395346Z"
    },
    "papermill": {
     "duration": 0.079385,
     "end_time": "2023-01-18T12:30:45.399093",
     "exception": false,
     "start_time": "2023-01-18T12:30:45.319708",
     "status": "completed"
    },
    "tags": []
   },
   "outputs": [],
   "source": [
    "y=train['Purchase']\n",
    "X=train.drop('Purchase',axis=1)"
   ]
  },
  {
   "cell_type": "code",
   "execution_count": 33,
   "id": "f26c17fb",
   "metadata": {
    "execution": {
     "iopub.execute_input": "2023-01-18T12:30:45.453991Z",
     "iopub.status.busy": "2023-01-18T12:30:45.453555Z",
     "iopub.status.idle": "2023-01-18T12:30:45.460328Z",
     "shell.execute_reply": "2023-01-18T12:30:45.459304Z"
    },
    "papermill": {
     "duration": 0.03666,
     "end_time": "2023-01-18T12:30:45.462457",
     "exception": false,
     "start_time": "2023-01-18T12:30:45.425797",
     "status": "completed"
    },
    "tags": []
   },
   "outputs": [
    {
     "data": {
      "text/plain": [
       "((550068, 12), (550068,))"
      ]
     },
     "execution_count": 33,
     "metadata": {},
     "output_type": "execute_result"
    }
   ],
   "source": [
    "X.shape, y.shape"
   ]
  },
  {
   "cell_type": "markdown",
   "id": "276fa8fa",
   "metadata": {
    "papermill": {
     "duration": 0.026109,
     "end_time": "2023-01-18T12:30:45.515277",
     "exception": false,
     "start_time": "2023-01-18T12:30:45.489168",
     "status": "completed"
    },
    "tags": []
   },
   "source": [
    "Features"
   ]
  },
  {
   "cell_type": "code",
   "execution_count": 34,
   "id": "600cbf11",
   "metadata": {
    "execution": {
     "iopub.execute_input": "2023-01-18T12:30:45.571093Z",
     "iopub.status.busy": "2023-01-18T12:30:45.570228Z",
     "iopub.status.idle": "2023-01-18T12:30:45.584107Z",
     "shell.execute_reply": "2023-01-18T12:30:45.583334Z"
    },
    "papermill": {
     "duration": 0.044411,
     "end_time": "2023-01-18T12:30:45.586328",
     "exception": false,
     "start_time": "2023-01-18T12:30:45.541917",
     "status": "completed"
    },
    "tags": []
   },
   "outputs": [
    {
     "data": {
      "text/html": [
       "<div>\n",
       "<style scoped>\n",
       "    .dataframe tbody tr th:only-of-type {\n",
       "        vertical-align: middle;\n",
       "    }\n",
       "\n",
       "    .dataframe tbody tr th {\n",
       "        vertical-align: top;\n",
       "    }\n",
       "\n",
       "    .dataframe thead th {\n",
       "        text-align: right;\n",
       "    }\n",
       "</style>\n",
       "<table border=\"1\" class=\"dataframe\">\n",
       "  <thead>\n",
       "    <tr style=\"text-align: right;\">\n",
       "      <th></th>\n",
       "      <th>User_ID</th>\n",
       "      <th>Product_ID</th>\n",
       "      <th>Gender</th>\n",
       "      <th>Age</th>\n",
       "      <th>Occupation</th>\n",
       "      <th>Stay_In_Current_City_Years</th>\n",
       "      <th>Marital_Status</th>\n",
       "      <th>Product_Category_1</th>\n",
       "      <th>Product_Category_2</th>\n",
       "      <th>City_Category_0</th>\n",
       "      <th>City_Category_1</th>\n",
       "      <th>City_Category_2</th>\n",
       "    </tr>\n",
       "  </thead>\n",
       "  <tbody>\n",
       "    <tr>\n",
       "      <th>0</th>\n",
       "      <td>1000001</td>\n",
       "      <td>-1.028774</td>\n",
       "      <td>0</td>\n",
       "      <td>0</td>\n",
       "      <td>10</td>\n",
       "      <td>2</td>\n",
       "      <td>0</td>\n",
       "      <td>3</td>\n",
       "      <td>9.842329</td>\n",
       "      <td>1</td>\n",
       "      <td>0</td>\n",
       "      <td>0</td>\n",
       "    </tr>\n",
       "    <tr>\n",
       "      <th>1</th>\n",
       "      <td>1000001</td>\n",
       "      <td>0.722139</td>\n",
       "      <td>0</td>\n",
       "      <td>0</td>\n",
       "      <td>10</td>\n",
       "      <td>2</td>\n",
       "      <td>0</td>\n",
       "      <td>1</td>\n",
       "      <td>6.000000</td>\n",
       "      <td>1</td>\n",
       "      <td>0</td>\n",
       "      <td>0</td>\n",
       "    </tr>\n",
       "    <tr>\n",
       "      <th>2</th>\n",
       "      <td>1000001</td>\n",
       "      <td>-0.845799</td>\n",
       "      <td>0</td>\n",
       "      <td>0</td>\n",
       "      <td>10</td>\n",
       "      <td>2</td>\n",
       "      <td>0</td>\n",
       "      <td>12</td>\n",
       "      <td>9.842329</td>\n",
       "      <td>1</td>\n",
       "      <td>0</td>\n",
       "      <td>0</td>\n",
       "    </tr>\n",
       "    <tr>\n",
       "      <th>3</th>\n",
       "      <td>1000001</td>\n",
       "      <td>-0.869157</td>\n",
       "      <td>0</td>\n",
       "      <td>0</td>\n",
       "      <td>10</td>\n",
       "      <td>2</td>\n",
       "      <td>0</td>\n",
       "      <td>12</td>\n",
       "      <td>14.000000</td>\n",
       "      <td>1</td>\n",
       "      <td>0</td>\n",
       "      <td>0</td>\n",
       "    </tr>\n",
       "    <tr>\n",
       "      <th>4</th>\n",
       "      <td>1000002</td>\n",
       "      <td>1.077382</td>\n",
       "      <td>1</td>\n",
       "      <td>6</td>\n",
       "      <td>16</td>\n",
       "      <td>4</td>\n",
       "      <td>0</td>\n",
       "      <td>8</td>\n",
       "      <td>9.842329</td>\n",
       "      <td>0</td>\n",
       "      <td>0</td>\n",
       "      <td>1</td>\n",
       "    </tr>\n",
       "  </tbody>\n",
       "</table>\n",
       "</div>"
      ],
      "text/plain": [
       "   User_ID  Product_ID  Gender  Age  Occupation  Stay_In_Current_City_Years  \\\n",
       "0  1000001   -1.028774       0    0          10                           2   \n",
       "1  1000001    0.722139       0    0          10                           2   \n",
       "2  1000001   -0.845799       0    0          10                           2   \n",
       "3  1000001   -0.869157       0    0          10                           2   \n",
       "4  1000002    1.077382       1    6          16                           4   \n",
       "\n",
       "   Marital_Status  Product_Category_1  Product_Category_2  City_Category_0  \\\n",
       "0               0                   3            9.842329                1   \n",
       "1               0                   1            6.000000                1   \n",
       "2               0                  12            9.842329                1   \n",
       "3               0                  12           14.000000                1   \n",
       "4               0                   8            9.842329                0   \n",
       "\n",
       "   City_Category_1  City_Category_2  \n",
       "0                0                0  \n",
       "1                0                0  \n",
       "2                0                0  \n",
       "3                0                0  \n",
       "4                0                1  "
      ]
     },
     "execution_count": 34,
     "metadata": {},
     "output_type": "execute_result"
    }
   ],
   "source": [
    "X.head()"
   ]
  },
  {
   "cell_type": "code",
   "execution_count": 35,
   "id": "a50e4e3d",
   "metadata": {
    "execution": {
     "iopub.execute_input": "2023-01-18T12:30:45.642899Z",
     "iopub.status.busy": "2023-01-18T12:30:45.642121Z",
     "iopub.status.idle": "2023-01-18T12:30:45.650798Z",
     "shell.execute_reply": "2023-01-18T12:30:45.649712Z"
    },
    "papermill": {
     "duration": 0.039172,
     "end_time": "2023-01-18T12:30:45.653023",
     "exception": false,
     "start_time": "2023-01-18T12:30:45.613851",
     "status": "completed"
    },
    "tags": []
   },
   "outputs": [
    {
     "data": {
      "text/plain": [
       "0         9.032409\n",
       "1         9.629051\n",
       "2         7.259820\n",
       "3         6.963190\n",
       "4         8.983314\n",
       "            ...   \n",
       "550063    5.908083\n",
       "550064    5.916202\n",
       "550065    4.919981\n",
       "550066    5.899897\n",
       "550067    6.194405\n",
       "Name: Purchase, Length: 550068, dtype: float64"
      ]
     },
     "execution_count": 35,
     "metadata": {},
     "output_type": "execute_result"
    }
   ],
   "source": [
    "# Labels\n",
    "y"
   ]
  },
  {
   "cell_type": "code",
   "execution_count": 36,
   "id": "d68e50f1",
   "metadata": {
    "execution": {
     "iopub.execute_input": "2023-01-18T12:30:45.708474Z",
     "iopub.status.busy": "2023-01-18T12:30:45.708053Z",
     "iopub.status.idle": "2023-01-18T12:30:45.828413Z",
     "shell.execute_reply": "2023-01-18T12:30:45.827396Z"
    },
    "papermill": {
     "duration": 0.150518,
     "end_time": "2023-01-18T12:30:45.830593",
     "exception": false,
     "start_time": "2023-01-18T12:30:45.680075",
     "status": "completed"
    },
    "tags": []
   },
   "outputs": [
    {
     "name": "stdout",
     "output_type": "stream",
     "text": [
      "(440054, 12) (110014, 12) (440054,) (110014,)\n"
     ]
    }
   ],
   "source": [
    "X_train,X_test, y_train, y_test = train_test_split(X, y, test_size=0.2,random_state=0)\n",
    "print(X_train.shape,X_test.shape,y_train.shape,y_test.shape)"
   ]
  },
  {
   "cell_type": "markdown",
   "id": "635a5299",
   "metadata": {
    "papermill": {
     "duration": 0.026837,
     "end_time": "2023-01-18T12:30:45.884750",
     "exception": false,
     "start_time": "2023-01-18T12:30:45.857913",
     "status": "completed"
    },
    "tags": []
   },
   "source": [
    "### Scaling the data"
   ]
  },
  {
   "cell_type": "code",
   "execution_count": 37,
   "id": "83d72634",
   "metadata": {
    "execution": {
     "iopub.execute_input": "2023-01-18T12:30:45.940852Z",
     "iopub.status.busy": "2023-01-18T12:30:45.940156Z",
     "iopub.status.idle": "2023-01-18T12:30:46.068785Z",
     "shell.execute_reply": "2023-01-18T12:30:46.067804Z"
    },
    "papermill": {
     "duration": 0.159851,
     "end_time": "2023-01-18T12:30:46.071589",
     "exception": false,
     "start_time": "2023-01-18T12:30:45.911738",
     "status": "completed"
    },
    "tags": []
   },
   "outputs": [],
   "source": [
    "ss=StandardScaler()\n",
    "X_train=ss.fit_transform(X_train)\n",
    "X_test=ss.transform(X_test)\n",
    "## standardScaler standardize a feature by subtracting the mean\n",
    "#and then scaling to unit variance"
   ]
  },
  {
   "cell_type": "markdown",
   "id": "28c4ad80",
   "metadata": {
    "papermill": {
     "duration": 0.026828,
     "end_time": "2023-01-18T12:30:46.126384",
     "exception": false,
     "start_time": "2023-01-18T12:30:46.099556",
     "status": "completed"
    },
    "tags": []
   },
   "source": [
    "## ML Models"
   ]
  },
  {
   "cell_type": "markdown",
   "id": "b89f815a",
   "metadata": {
    "papermill": {
     "duration": 0.026254,
     "end_time": "2023-01-18T12:30:46.179371",
     "exception": false,
     "start_time": "2023-01-18T12:30:46.153117",
     "status": "completed"
    },
    "tags": []
   },
   "source": [
    "### Linear Regression"
   ]
  },
  {
   "cell_type": "code",
   "execution_count": 38,
   "id": "627d8d80",
   "metadata": {
    "execution": {
     "iopub.execute_input": "2023-01-18T12:30:46.234936Z",
     "iopub.status.busy": "2023-01-18T12:30:46.234500Z",
     "iopub.status.idle": "2023-01-18T12:30:46.417907Z",
     "shell.execute_reply": "2023-01-18T12:30:46.415809Z"
    },
    "papermill": {
     "duration": 0.216633,
     "end_time": "2023-01-18T12:30:46.422953",
     "exception": false,
     "start_time": "2023-01-18T12:30:46.206320",
     "status": "completed"
    },
    "tags": []
   },
   "outputs": [
    {
     "data": {
      "text/plain": [
       "LinearRegression()"
      ]
     },
     "execution_count": 38,
     "metadata": {},
     "output_type": "execute_result"
    }
   ],
   "source": [
    "lr=LinearRegression()\n",
    "lr.fit(X_train,y_train)"
   ]
  },
  {
   "cell_type": "code",
   "execution_count": 39,
   "id": "f426fbd0",
   "metadata": {
    "execution": {
     "iopub.execute_input": "2023-01-18T12:30:46.505845Z",
     "iopub.status.busy": "2023-01-18T12:30:46.505398Z",
     "iopub.status.idle": "2023-01-18T12:30:46.521038Z",
     "shell.execute_reply": "2023-01-18T12:30:46.519153Z"
    },
    "papermill": {
     "duration": 0.048654,
     "end_time": "2023-01-18T12:30:46.525473",
     "exception": false,
     "start_time": "2023-01-18T12:30:46.476819",
     "status": "completed"
    },
    "tags": []
   },
   "outputs": [],
   "source": [
    "y_test_pred=lr.predict(X_test)"
   ]
  },
  {
   "cell_type": "code",
   "execution_count": 40,
   "id": "7efa876d",
   "metadata": {
    "execution": {
     "iopub.execute_input": "2023-01-18T12:30:46.647148Z",
     "iopub.status.busy": "2023-01-18T12:30:46.646711Z",
     "iopub.status.idle": "2023-01-18T12:30:46.658049Z",
     "shell.execute_reply": "2023-01-18T12:30:46.656541Z"
    },
    "papermill": {
     "duration": 0.066281,
     "end_time": "2023-01-18T12:30:46.661509",
     "exception": false,
     "start_time": "2023-01-18T12:30:46.595228",
     "status": "completed"
    },
    "tags": []
   },
   "outputs": [
    {
     "name": "stdout",
     "output_type": "stream",
     "text": [
      "r2_score:  0.2016460614925666\n",
      "mae:  0.4556495510088039\n",
      "mse:  0.44379427501382107\n",
      "rmse:  0.6661788611280165\n"
     ]
    }
   ],
   "source": [
    "r2score=r2_score(y_test,y_test_pred)\n",
    "mae=mean_absolute_error(y_test,y_test_pred)\n",
    "mse=mean_squared_error(y_test,y_test_pred)\n",
    "rmse=(np.sqrt(mean_squared_error(y_test,y_test_pred)))\n",
    "print('r2_score: ', r2score )\n",
    "print('mae: ', mae)\n",
    "print('mse: ', mse)\n",
    "print('rmse: ', rmse)"
   ]
  },
  {
   "cell_type": "markdown",
   "id": "7543e17d",
   "metadata": {
    "papermill": {
     "duration": 0.026594,
     "end_time": "2023-01-18T12:30:46.715777",
     "exception": false,
     "start_time": "2023-01-18T12:30:46.689183",
     "status": "completed"
    },
    "tags": []
   },
   "source": [
    "Our model is not very accurate to predict the purchases or the target column because r2_score is low and rmse is high."
   ]
  },
  {
   "cell_type": "markdown",
   "id": "dba4b693",
   "metadata": {
    "papermill": {
     "duration": 0.026193,
     "end_time": "2023-01-18T12:30:46.768476",
     "exception": false,
     "start_time": "2023-01-18T12:30:46.742283",
     "status": "completed"
    },
    "tags": []
   },
   "source": [
    "### Decision Tree Regressor"
   ]
  },
  {
   "cell_type": "code",
   "execution_count": 41,
   "id": "fe667b14",
   "metadata": {
    "execution": {
     "iopub.execute_input": "2023-01-18T12:30:46.824247Z",
     "iopub.status.busy": "2023-01-18T12:30:46.823419Z",
     "iopub.status.idle": "2023-01-18T12:30:48.339269Z",
     "shell.execute_reply": "2023-01-18T12:30:48.337981Z"
    },
    "papermill": {
     "duration": 1.546336,
     "end_time": "2023-01-18T12:30:48.341584",
     "exception": false,
     "start_time": "2023-01-18T12:30:46.795248",
     "status": "completed"
    },
    "tags": []
   },
   "outputs": [
    {
     "data": {
      "text/plain": [
       "DecisionTreeRegressor(max_depth=9)"
      ]
     },
     "execution_count": 41,
     "metadata": {},
     "output_type": "execute_result"
    }
   ],
   "source": [
    "dt=DecisionTreeRegressor(max_depth=9)\n",
    "dt.fit(X_train, y_train)"
   ]
  },
  {
   "cell_type": "code",
   "execution_count": 42,
   "id": "7f04f8e2",
   "metadata": {
    "execution": {
     "iopub.execute_input": "2023-01-18T12:30:48.397977Z",
     "iopub.status.busy": "2023-01-18T12:30:48.397390Z",
     "iopub.status.idle": "2023-01-18T12:30:48.456083Z",
     "shell.execute_reply": "2023-01-18T12:30:48.454942Z"
    },
    "papermill": {
     "duration": 0.089864,
     "end_time": "2023-01-18T12:30:48.458787",
     "exception": false,
     "start_time": "2023-01-18T12:30:48.368923",
     "status": "completed"
    },
    "tags": []
   },
   "outputs": [],
   "source": [
    "# predicting train\n",
    "y_train_preds=dt.predict(X_train)\n",
    "#predicting on test\n",
    "y_test_preds=dt.predict(X_test)"
   ]
  },
  {
   "cell_type": "code",
   "execution_count": 43,
   "id": "3c7f63a3",
   "metadata": {
    "execution": {
     "iopub.execute_input": "2023-01-18T12:30:48.515317Z",
     "iopub.status.busy": "2023-01-18T12:30:48.514863Z",
     "iopub.status.idle": "2023-01-18T12:30:48.587004Z",
     "shell.execute_reply": "2023-01-18T12:30:48.585843Z"
    },
    "papermill": {
     "duration": 0.102787,
     "end_time": "2023-01-18T12:30:48.589202",
     "exception": false,
     "start_time": "2023-01-18T12:30:48.486415",
     "status": "completed"
    },
    "tags": []
   },
   "outputs": [
    {
     "name": "stdout",
     "output_type": "stream",
     "text": [
      "rmse train : 0.36804082144062517\n",
      "rmse test : 0.3689196428165279\n",
      "--------------------------------------------------\n",
      "RSquared train : 0.7519510621944243\n",
      "RSquared test : 0.7551628386617383\n"
     ]
    }
   ],
   "source": [
    "rmse_train=(np.sqrt(metrics.mean_squared_error(y_train,y_train_preds)))\n",
    "rmse_test=(np.sqrt(metrics.mean_squared_error(y_test,y_test_preds)))\n",
    "print('rmse train :',str(rmse_train))\n",
    "print('rmse test :',str(rmse_test))\n",
    "print('-'*50)\n",
    "print('RSquared train :', dt.score(X_train,y_train))\n",
    "print('RSquared test :', dt.score(X_test,y_test))"
   ]
  },
  {
   "cell_type": "markdown",
   "id": "73d8d539",
   "metadata": {
    "papermill": {
     "duration": 0.027495,
     "end_time": "2023-01-18T12:30:48.643741",
     "exception": false,
     "start_time": "2023-01-18T12:30:48.616246",
     "status": "completed"
    },
    "tags": []
   },
   "source": [
    "Decision tree regressor is better compared to lr as it can be observed that the root mean square error is less as compared to the previours model and rsquared value is higher in this model"
   ]
  },
  {
   "cell_type": "markdown",
   "id": "79a775bd",
   "metadata": {
    "papermill": {
     "duration": 0.026908,
     "end_time": "2023-01-18T12:30:48.699326",
     "exception": false,
     "start_time": "2023-01-18T12:30:48.672418",
     "status": "completed"
    },
    "tags": []
   },
   "source": [
    "### Random Forest Regressor"
   ]
  },
  {
   "cell_type": "code",
   "execution_count": 44,
   "id": "d1021407",
   "metadata": {
    "execution": {
     "iopub.execute_input": "2023-01-18T12:30:48.755815Z",
     "iopub.status.busy": "2023-01-18T12:30:48.755083Z",
     "iopub.status.idle": "2023-01-18T12:35:00.883885Z",
     "shell.execute_reply": "2023-01-18T12:35:00.882640Z"
    },
    "papermill": {
     "duration": 252.160384,
     "end_time": "2023-01-18T12:35:00.886924",
     "exception": false,
     "start_time": "2023-01-18T12:30:48.726540",
     "status": "completed"
    },
    "tags": []
   },
   "outputs": [],
   "source": [
    "rfr=RandomForestRegressor().fit(X_train,y_train)"
   ]
  },
  {
   "cell_type": "code",
   "execution_count": 45,
   "id": "633f1ae2",
   "metadata": {
    "execution": {
     "iopub.execute_input": "2023-01-18T12:35:00.945339Z",
     "iopub.status.busy": "2023-01-18T12:35:00.944904Z",
     "iopub.status.idle": "2023-01-18T12:35:42.234445Z",
     "shell.execute_reply": "2023-01-18T12:35:42.233554Z"
    },
    "papermill": {
     "duration": 41.321627,
     "end_time": "2023-01-18T12:35:42.236895",
     "exception": false,
     "start_time": "2023-01-18T12:35:00.915268",
     "status": "completed"
    },
    "tags": []
   },
   "outputs": [],
   "source": [
    "# predicting train\n",
    "y_train_preds_rfr=rfr.predict(X_train)\n",
    "#predicting on test\n",
    "y_test_preds_rfr=rfr.predict(X_test)"
   ]
  },
  {
   "cell_type": "code",
   "execution_count": 46,
   "id": "bb2d1414",
   "metadata": {
    "execution": {
     "iopub.execute_input": "2023-01-18T12:35:42.293287Z",
     "iopub.status.busy": "2023-01-18T12:35:42.292281Z",
     "iopub.status.idle": "2023-01-18T12:36:23.538258Z",
     "shell.execute_reply": "2023-01-18T12:36:23.536216Z"
    },
    "papermill": {
     "duration": 41.276717,
     "end_time": "2023-01-18T12:36:23.540660",
     "exception": false,
     "start_time": "2023-01-18T12:35:42.263943",
     "status": "completed"
    },
    "tags": []
   },
   "outputs": [
    {
     "name": "stdout",
     "output_type": "stream",
     "text": [
      "rmse train : 0.13141186591587833\n",
      "rmse test : 0.3498226782940023\n",
      "--------------------------------------------------\n",
      "RSquared train : 0.9683761637369532\n",
      "RSquared test : 0.7798545582204851\n"
     ]
    }
   ],
   "source": [
    "rmse_train=(np.sqrt(metrics.mean_squared_error(y_train,y_train_preds_rfr)))\n",
    "rmse_test=(np.sqrt(metrics.mean_squared_error(y_test,y_test_preds_rfr)))\n",
    "print('rmse train :',str(rmse_train))\n",
    "print('rmse test :',str(rmse_test))\n",
    "print('-'*50)\n",
    "print('RSquared train :', rfr.score(X_train,y_train))\n",
    "print('RSquared test :', rfr.score(X_test,y_test))"
   ]
  },
  {
   "cell_type": "markdown",
   "id": "e2a44d18",
   "metadata": {
    "papermill": {
     "duration": 0.027303,
     "end_time": "2023-01-18T12:36:23.595837",
     "exception": false,
     "start_time": "2023-01-18T12:36:23.568534",
     "status": "completed"
    },
    "tags": []
   },
   "source": [
    "### Test data"
   ]
  },
  {
   "cell_type": "code",
   "execution_count": 47,
   "id": "fa3a3ba3",
   "metadata": {
    "execution": {
     "iopub.execute_input": "2023-01-18T12:36:23.653269Z",
     "iopub.status.busy": "2023-01-18T12:36:23.652507Z",
     "iopub.status.idle": "2023-01-18T12:36:23.968437Z",
     "shell.execute_reply": "2023-01-18T12:36:23.967348Z"
    },
    "papermill": {
     "duration": 0.348089,
     "end_time": "2023-01-18T12:36:23.971119",
     "exception": false,
     "start_time": "2023-01-18T12:36:23.623030",
     "status": "completed"
    },
    "tags": []
   },
   "outputs": [
    {
     "data": {
      "text/html": [
       "<div>\n",
       "<style scoped>\n",
       "    .dataframe tbody tr th:only-of-type {\n",
       "        vertical-align: middle;\n",
       "    }\n",
       "\n",
       "    .dataframe tbody tr th {\n",
       "        vertical-align: top;\n",
       "    }\n",
       "\n",
       "    .dataframe thead th {\n",
       "        text-align: right;\n",
       "    }\n",
       "</style>\n",
       "<table border=\"1\" class=\"dataframe\">\n",
       "  <thead>\n",
       "    <tr style=\"text-align: right;\">\n",
       "      <th></th>\n",
       "      <th>User_ID</th>\n",
       "      <th>Product_ID</th>\n",
       "      <th>Gender</th>\n",
       "      <th>Age</th>\n",
       "      <th>Occupation</th>\n",
       "      <th>City_Category</th>\n",
       "      <th>Stay_In_Current_City_Years</th>\n",
       "      <th>Marital_Status</th>\n",
       "      <th>Product_Category_1</th>\n",
       "      <th>Product_Category_2</th>\n",
       "      <th>Product_Category_3</th>\n",
       "    </tr>\n",
       "  </thead>\n",
       "  <tbody>\n",
       "    <tr>\n",
       "      <th>0</th>\n",
       "      <td>1000004</td>\n",
       "      <td>P00128942</td>\n",
       "      <td>M</td>\n",
       "      <td>46-50</td>\n",
       "      <td>7</td>\n",
       "      <td>B</td>\n",
       "      <td>2</td>\n",
       "      <td>1</td>\n",
       "      <td>1</td>\n",
       "      <td>11.0</td>\n",
       "      <td>NaN</td>\n",
       "    </tr>\n",
       "    <tr>\n",
       "      <th>1</th>\n",
       "      <td>1000009</td>\n",
       "      <td>P00113442</td>\n",
       "      <td>M</td>\n",
       "      <td>26-35</td>\n",
       "      <td>17</td>\n",
       "      <td>C</td>\n",
       "      <td>0</td>\n",
       "      <td>0</td>\n",
       "      <td>3</td>\n",
       "      <td>5.0</td>\n",
       "      <td>NaN</td>\n",
       "    </tr>\n",
       "    <tr>\n",
       "      <th>2</th>\n",
       "      <td>1000010</td>\n",
       "      <td>P00288442</td>\n",
       "      <td>F</td>\n",
       "      <td>36-45</td>\n",
       "      <td>1</td>\n",
       "      <td>B</td>\n",
       "      <td>4+</td>\n",
       "      <td>1</td>\n",
       "      <td>5</td>\n",
       "      <td>14.0</td>\n",
       "      <td>NaN</td>\n",
       "    </tr>\n",
       "    <tr>\n",
       "      <th>3</th>\n",
       "      <td>1000010</td>\n",
       "      <td>P00145342</td>\n",
       "      <td>F</td>\n",
       "      <td>36-45</td>\n",
       "      <td>1</td>\n",
       "      <td>B</td>\n",
       "      <td>4+</td>\n",
       "      <td>1</td>\n",
       "      <td>4</td>\n",
       "      <td>9.0</td>\n",
       "      <td>NaN</td>\n",
       "    </tr>\n",
       "    <tr>\n",
       "      <th>4</th>\n",
       "      <td>1000011</td>\n",
       "      <td>P00053842</td>\n",
       "      <td>F</td>\n",
       "      <td>26-35</td>\n",
       "      <td>1</td>\n",
       "      <td>C</td>\n",
       "      <td>1</td>\n",
       "      <td>0</td>\n",
       "      <td>4</td>\n",
       "      <td>5.0</td>\n",
       "      <td>12.0</td>\n",
       "    </tr>\n",
       "    <tr>\n",
       "      <th>...</th>\n",
       "      <td>...</td>\n",
       "      <td>...</td>\n",
       "      <td>...</td>\n",
       "      <td>...</td>\n",
       "      <td>...</td>\n",
       "      <td>...</td>\n",
       "      <td>...</td>\n",
       "      <td>...</td>\n",
       "      <td>...</td>\n",
       "      <td>...</td>\n",
       "      <td>...</td>\n",
       "    </tr>\n",
       "    <tr>\n",
       "      <th>233594</th>\n",
       "      <td>1006036</td>\n",
       "      <td>P00118942</td>\n",
       "      <td>F</td>\n",
       "      <td>26-35</td>\n",
       "      <td>15</td>\n",
       "      <td>B</td>\n",
       "      <td>4+</td>\n",
       "      <td>1</td>\n",
       "      <td>8</td>\n",
       "      <td>NaN</td>\n",
       "      <td>NaN</td>\n",
       "    </tr>\n",
       "    <tr>\n",
       "      <th>233595</th>\n",
       "      <td>1006036</td>\n",
       "      <td>P00254642</td>\n",
       "      <td>F</td>\n",
       "      <td>26-35</td>\n",
       "      <td>15</td>\n",
       "      <td>B</td>\n",
       "      <td>4+</td>\n",
       "      <td>1</td>\n",
       "      <td>5</td>\n",
       "      <td>8.0</td>\n",
       "      <td>NaN</td>\n",
       "    </tr>\n",
       "    <tr>\n",
       "      <th>233596</th>\n",
       "      <td>1006036</td>\n",
       "      <td>P00031842</td>\n",
       "      <td>F</td>\n",
       "      <td>26-35</td>\n",
       "      <td>15</td>\n",
       "      <td>B</td>\n",
       "      <td>4+</td>\n",
       "      <td>1</td>\n",
       "      <td>1</td>\n",
       "      <td>5.0</td>\n",
       "      <td>12.0</td>\n",
       "    </tr>\n",
       "    <tr>\n",
       "      <th>233597</th>\n",
       "      <td>1006037</td>\n",
       "      <td>P00124742</td>\n",
       "      <td>F</td>\n",
       "      <td>46-50</td>\n",
       "      <td>1</td>\n",
       "      <td>C</td>\n",
       "      <td>4+</td>\n",
       "      <td>0</td>\n",
       "      <td>10</td>\n",
       "      <td>16.0</td>\n",
       "      <td>NaN</td>\n",
       "    </tr>\n",
       "    <tr>\n",
       "      <th>233598</th>\n",
       "      <td>1006039</td>\n",
       "      <td>P00316642</td>\n",
       "      <td>F</td>\n",
       "      <td>46-50</td>\n",
       "      <td>0</td>\n",
       "      <td>B</td>\n",
       "      <td>4+</td>\n",
       "      <td>1</td>\n",
       "      <td>4</td>\n",
       "      <td>5.0</td>\n",
       "      <td>NaN</td>\n",
       "    </tr>\n",
       "  </tbody>\n",
       "</table>\n",
       "<p>233599 rows × 11 columns</p>\n",
       "</div>"
      ],
      "text/plain": [
       "        User_ID Product_ID Gender    Age  Occupation City_Category  \\\n",
       "0       1000004  P00128942      M  46-50           7             B   \n",
       "1       1000009  P00113442      M  26-35          17             C   \n",
       "2       1000010  P00288442      F  36-45           1             B   \n",
       "3       1000010  P00145342      F  36-45           1             B   \n",
       "4       1000011  P00053842      F  26-35           1             C   \n",
       "...         ...        ...    ...    ...         ...           ...   \n",
       "233594  1006036  P00118942      F  26-35          15             B   \n",
       "233595  1006036  P00254642      F  26-35          15             B   \n",
       "233596  1006036  P00031842      F  26-35          15             B   \n",
       "233597  1006037  P00124742      F  46-50           1             C   \n",
       "233598  1006039  P00316642      F  46-50           0             B   \n",
       "\n",
       "       Stay_In_Current_City_Years  Marital_Status  Product_Category_1  \\\n",
       "0                               2               1                   1   \n",
       "1                               0               0                   3   \n",
       "2                              4+               1                   5   \n",
       "3                              4+               1                   4   \n",
       "4                               1               0                   4   \n",
       "...                           ...             ...                 ...   \n",
       "233594                         4+               1                   8   \n",
       "233595                         4+               1                   5   \n",
       "233596                         4+               1                   1   \n",
       "233597                         4+               0                  10   \n",
       "233598                         4+               1                   4   \n",
       "\n",
       "        Product_Category_2  Product_Category_3  \n",
       "0                     11.0                 NaN  \n",
       "1                      5.0                 NaN  \n",
       "2                     14.0                 NaN  \n",
       "3                      9.0                 NaN  \n",
       "4                      5.0                12.0  \n",
       "...                    ...                 ...  \n",
       "233594                 NaN                 NaN  \n",
       "233595                 8.0                 NaN  \n",
       "233596                 5.0                12.0  \n",
       "233597                16.0                 NaN  \n",
       "233598                 5.0                 NaN  \n",
       "\n",
       "[233599 rows x 11 columns]"
      ]
     },
     "execution_count": 47,
     "metadata": {},
     "output_type": "execute_result"
    }
   ],
   "source": [
    "test=pd.read_csv(\"/kaggle/input/black-friday-sales-dataset/test.csv\")\n",
    "test"
   ]
  },
  {
   "cell_type": "code",
   "execution_count": 48,
   "id": "9b724925",
   "metadata": {
    "execution": {
     "iopub.execute_input": "2023-01-18T12:36:24.032290Z",
     "iopub.status.busy": "2023-01-18T12:36:24.028917Z",
     "iopub.status.idle": "2023-01-18T12:36:24.092014Z",
     "shell.execute_reply": "2023-01-18T12:36:24.090956Z"
    },
    "papermill": {
     "duration": 0.095294,
     "end_time": "2023-01-18T12:36:24.094519",
     "exception": false,
     "start_time": "2023-01-18T12:36:23.999225",
     "status": "completed"
    },
    "tags": []
   },
   "outputs": [
    {
     "data": {
      "text/plain": [
       "User_ID                            0\n",
       "Product_ID                         0\n",
       "Gender                             0\n",
       "Age                                0\n",
       "Occupation                         0\n",
       "City_Category                      0\n",
       "Stay_In_Current_City_Years         0\n",
       "Marital_Status                     0\n",
       "Product_Category_1                 0\n",
       "Product_Category_2             72344\n",
       "Product_Category_3            162562\n",
       "dtype: int64"
      ]
     },
     "execution_count": 48,
     "metadata": {},
     "output_type": "execute_result"
    }
   ],
   "source": [
    "test.isnull().sum()"
   ]
  },
  {
   "cell_type": "markdown",
   "id": "4f128ec2",
   "metadata": {
    "papermill": {
     "duration": 0.028268,
     "end_time": "2023-01-18T12:36:24.150773",
     "exception": false,
     "start_time": "2023-01-18T12:36:24.122505",
     "status": "completed"
    },
    "tags": []
   },
   "source": [
    "null values in the test data have to be treated as well"
   ]
  },
  {
   "cell_type": "code",
   "execution_count": 49,
   "id": "4040fbd9",
   "metadata": {
    "execution": {
     "iopub.execute_input": "2023-01-18T12:36:24.209414Z",
     "iopub.status.busy": "2023-01-18T12:36:24.208057Z",
     "iopub.status.idle": "2023-01-18T12:36:24.457482Z",
     "shell.execute_reply": "2023-01-18T12:36:24.456649Z"
    },
    "papermill": {
     "duration": 0.281359,
     "end_time": "2023-01-18T12:36:24.460041",
     "exception": false,
     "start_time": "2023-01-18T12:36:24.178682",
     "status": "completed"
    },
    "tags": []
   },
   "outputs": [],
   "source": [
    "test['Product_ID'] = test['Product_ID'].str.replace('P00', '')\n",
    "ss = StandardScaler()\n",
    "test['Product_ID'] = ss.fit_transform(test['Product_ID'].values.reshape(-1,1))\n",
    "# Replacing 'P00' with no values and scaling the ProductID column."
   ]
  },
  {
   "cell_type": "code",
   "execution_count": 50,
   "id": "061eebca",
   "metadata": {
    "execution": {
     "iopub.execute_input": "2023-01-18T12:36:24.518314Z",
     "iopub.status.busy": "2023-01-18T12:36:24.517612Z",
     "iopub.status.idle": "2023-01-18T12:36:24.539146Z",
     "shell.execute_reply": "2023-01-18T12:36:24.537982Z"
    },
    "papermill": {
     "duration": 0.053746,
     "end_time": "2023-01-18T12:36:24.541973",
     "exception": false,
     "start_time": "2023-01-18T12:36:24.488227",
     "status": "completed"
    },
    "tags": []
   },
   "outputs": [],
   "source": [
    "test.drop(['Product_Category_3'],axis=1,inplace=True)\n",
    "## There are more than 50% missing values present in the Product_category_column,\n",
    "## so we will drop that column"
   ]
  },
  {
   "cell_type": "code",
   "execution_count": 51,
   "id": "25ca0e83",
   "metadata": {
    "execution": {
     "iopub.execute_input": "2023-01-18T12:36:24.600011Z",
     "iopub.status.busy": "2023-01-18T12:36:24.599592Z",
     "iopub.status.idle": "2023-01-18T12:36:24.610186Z",
     "shell.execute_reply": "2023-01-18T12:36:24.609092Z"
    },
    "papermill": {
     "duration": 0.042444,
     "end_time": "2023-01-18T12:36:24.612606",
     "exception": false,
     "start_time": "2023-01-18T12:36:24.570162",
     "status": "completed"
    },
    "tags": []
   },
   "outputs": [],
   "source": [
    "test['Product_Category_2']=test['Product_Category_2'].fillna(test['Product_Category_2'].mean())\n",
    "## The missing data in the product category 2 column have been imputed using mean."
   ]
  },
  {
   "cell_type": "code",
   "execution_count": 52,
   "id": "a8df4beb",
   "metadata": {
    "execution": {
     "iopub.execute_input": "2023-01-18T12:36:24.671897Z",
     "iopub.status.busy": "2023-01-18T12:36:24.671468Z",
     "iopub.status.idle": "2023-01-18T12:36:24.721740Z",
     "shell.execute_reply": "2023-01-18T12:36:24.720647Z"
    },
    "papermill": {
     "duration": 0.083202,
     "end_time": "2023-01-18T12:36:24.724264",
     "exception": false,
     "start_time": "2023-01-18T12:36:24.641062",
     "status": "completed"
    },
    "tags": []
   },
   "outputs": [
    {
     "data": {
      "text/plain": [
       "User_ID                       0\n",
       "Product_ID                    0\n",
       "Gender                        0\n",
       "Age                           0\n",
       "Occupation                    0\n",
       "City_Category                 0\n",
       "Stay_In_Current_City_Years    0\n",
       "Marital_Status                0\n",
       "Product_Category_1            0\n",
       "Product_Category_2            0\n",
       "dtype: int64"
      ]
     },
     "execution_count": 52,
     "metadata": {},
     "output_type": "execute_result"
    }
   ],
   "source": [
    "test.isnull().sum()"
   ]
  },
  {
   "cell_type": "code",
   "execution_count": 53,
   "id": "281353bd",
   "metadata": {
    "execution": {
     "iopub.execute_input": "2023-01-18T12:36:24.782413Z",
     "iopub.status.busy": "2023-01-18T12:36:24.782042Z",
     "iopub.status.idle": "2023-01-18T12:36:24.802925Z",
     "shell.execute_reply": "2023-01-18T12:36:24.801610Z"
    },
    "papermill": {
     "duration": 0.052754,
     "end_time": "2023-01-18T12:36:24.805229",
     "exception": false,
     "start_time": "2023-01-18T12:36:24.752475",
     "status": "completed"
    },
    "tags": []
   },
   "outputs": [
    {
     "data": {
      "text/html": [
       "<div>\n",
       "<style scoped>\n",
       "    .dataframe tbody tr th:only-of-type {\n",
       "        vertical-align: middle;\n",
       "    }\n",
       "\n",
       "    .dataframe tbody tr th {\n",
       "        vertical-align: top;\n",
       "    }\n",
       "\n",
       "    .dataframe thead th {\n",
       "        text-align: right;\n",
       "    }\n",
       "</style>\n",
       "<table border=\"1\" class=\"dataframe\">\n",
       "  <thead>\n",
       "    <tr style=\"text-align: right;\">\n",
       "      <th></th>\n",
       "      <th>User_ID</th>\n",
       "      <th>Product_ID</th>\n",
       "      <th>Gender</th>\n",
       "      <th>Age</th>\n",
       "      <th>Occupation</th>\n",
       "      <th>City_Category</th>\n",
       "      <th>Stay_In_Current_City_Years</th>\n",
       "      <th>Marital_Status</th>\n",
       "      <th>Product_Category_1</th>\n",
       "      <th>Product_Category_2</th>\n",
       "    </tr>\n",
       "  </thead>\n",
       "  <tbody>\n",
       "    <tr>\n",
       "      <th>0</th>\n",
       "      <td>1000004</td>\n",
       "      <td>-0.434752</td>\n",
       "      <td>M</td>\n",
       "      <td>46-50</td>\n",
       "      <td>7</td>\n",
       "      <td>B</td>\n",
       "      <td>2</td>\n",
       "      <td>1</td>\n",
       "      <td>1</td>\n",
       "      <td>11.000000</td>\n",
       "    </tr>\n",
       "    <tr>\n",
       "      <th>1</th>\n",
       "      <td>1000009</td>\n",
       "      <td>-0.587188</td>\n",
       "      <td>M</td>\n",
       "      <td>26-35</td>\n",
       "      <td>17</td>\n",
       "      <td>C</td>\n",
       "      <td>0</td>\n",
       "      <td>0</td>\n",
       "      <td>3</td>\n",
       "      <td>5.000000</td>\n",
       "    </tr>\n",
       "    <tr>\n",
       "      <th>2</th>\n",
       "      <td>1000010</td>\n",
       "      <td>1.133865</td>\n",
       "      <td>F</td>\n",
       "      <td>36-45</td>\n",
       "      <td>1</td>\n",
       "      <td>B</td>\n",
       "      <td>4+</td>\n",
       "      <td>1</td>\n",
       "      <td>5</td>\n",
       "      <td>14.000000</td>\n",
       "    </tr>\n",
       "    <tr>\n",
       "      <th>3</th>\n",
       "      <td>1000010</td>\n",
       "      <td>-0.273465</td>\n",
       "      <td>F</td>\n",
       "      <td>36-45</td>\n",
       "      <td>1</td>\n",
       "      <td>B</td>\n",
       "      <td>4+</td>\n",
       "      <td>1</td>\n",
       "      <td>4</td>\n",
       "      <td>9.000000</td>\n",
       "    </tr>\n",
       "    <tr>\n",
       "      <th>4</th>\n",
       "      <td>1000011</td>\n",
       "      <td>-1.173330</td>\n",
       "      <td>F</td>\n",
       "      <td>26-35</td>\n",
       "      <td>1</td>\n",
       "      <td>C</td>\n",
       "      <td>1</td>\n",
       "      <td>0</td>\n",
       "      <td>4</td>\n",
       "      <td>5.000000</td>\n",
       "    </tr>\n",
       "    <tr>\n",
       "      <th>...</th>\n",
       "      <td>...</td>\n",
       "      <td>...</td>\n",
       "      <td>...</td>\n",
       "      <td>...</td>\n",
       "      <td>...</td>\n",
       "      <td>...</td>\n",
       "      <td>...</td>\n",
       "      <td>...</td>\n",
       "      <td>...</td>\n",
       "      <td>...</td>\n",
       "    </tr>\n",
       "    <tr>\n",
       "      <th>233594</th>\n",
       "      <td>1006036</td>\n",
       "      <td>-0.533098</td>\n",
       "      <td>F</td>\n",
       "      <td>26-35</td>\n",
       "      <td>15</td>\n",
       "      <td>B</td>\n",
       "      <td>4+</td>\n",
       "      <td>1</td>\n",
       "      <td>8</td>\n",
       "      <td>9.849586</td>\n",
       "    </tr>\n",
       "    <tr>\n",
       "      <th>233595</th>\n",
       "      <td>1006036</td>\n",
       "      <td>0.801456</td>\n",
       "      <td>F</td>\n",
       "      <td>26-35</td>\n",
       "      <td>15</td>\n",
       "      <td>B</td>\n",
       "      <td>4+</td>\n",
       "      <td>1</td>\n",
       "      <td>5</td>\n",
       "      <td>8.000000</td>\n",
       "    </tr>\n",
       "    <tr>\n",
       "      <th>233596</th>\n",
       "      <td>1006036</td>\n",
       "      <td>-1.389691</td>\n",
       "      <td>F</td>\n",
       "      <td>26-35</td>\n",
       "      <td>15</td>\n",
       "      <td>B</td>\n",
       "      <td>4+</td>\n",
       "      <td>1</td>\n",
       "      <td>1</td>\n",
       "      <td>5.000000</td>\n",
       "    </tr>\n",
       "    <tr>\n",
       "      <th>233597</th>\n",
       "      <td>1006037</td>\n",
       "      <td>-0.476058</td>\n",
       "      <td>F</td>\n",
       "      <td>46-50</td>\n",
       "      <td>1</td>\n",
       "      <td>C</td>\n",
       "      <td>4+</td>\n",
       "      <td>0</td>\n",
       "      <td>10</td>\n",
       "      <td>16.000000</td>\n",
       "    </tr>\n",
       "    <tr>\n",
       "      <th>233598</th>\n",
       "      <td>1006039</td>\n",
       "      <td>1.411200</td>\n",
       "      <td>F</td>\n",
       "      <td>46-50</td>\n",
       "      <td>0</td>\n",
       "      <td>B</td>\n",
       "      <td>4+</td>\n",
       "      <td>1</td>\n",
       "      <td>4</td>\n",
       "      <td>5.000000</td>\n",
       "    </tr>\n",
       "  </tbody>\n",
       "</table>\n",
       "<p>233599 rows × 10 columns</p>\n",
       "</div>"
      ],
      "text/plain": [
       "        User_ID  Product_ID Gender    Age  Occupation City_Category  \\\n",
       "0       1000004   -0.434752      M  46-50           7             B   \n",
       "1       1000009   -0.587188      M  26-35          17             C   \n",
       "2       1000010    1.133865      F  36-45           1             B   \n",
       "3       1000010   -0.273465      F  36-45           1             B   \n",
       "4       1000011   -1.173330      F  26-35           1             C   \n",
       "...         ...         ...    ...    ...         ...           ...   \n",
       "233594  1006036   -0.533098      F  26-35          15             B   \n",
       "233595  1006036    0.801456      F  26-35          15             B   \n",
       "233596  1006036   -1.389691      F  26-35          15             B   \n",
       "233597  1006037   -0.476058      F  46-50           1             C   \n",
       "233598  1006039    1.411200      F  46-50           0             B   \n",
       "\n",
       "       Stay_In_Current_City_Years  Marital_Status  Product_Category_1  \\\n",
       "0                               2               1                   1   \n",
       "1                               0               0                   3   \n",
       "2                              4+               1                   5   \n",
       "3                              4+               1                   4   \n",
       "4                               1               0                   4   \n",
       "...                           ...             ...                 ...   \n",
       "233594                         4+               1                   8   \n",
       "233595                         4+               1                   5   \n",
       "233596                         4+               1                   1   \n",
       "233597                         4+               0                  10   \n",
       "233598                         4+               1                   4   \n",
       "\n",
       "        Product_Category_2  \n",
       "0                11.000000  \n",
       "1                 5.000000  \n",
       "2                14.000000  \n",
       "3                 9.000000  \n",
       "4                 5.000000  \n",
       "...                    ...  \n",
       "233594            9.849586  \n",
       "233595            8.000000  \n",
       "233596            5.000000  \n",
       "233597           16.000000  \n",
       "233598            5.000000  \n",
       "\n",
       "[233599 rows x 10 columns]"
      ]
     },
     "execution_count": 53,
     "metadata": {},
     "output_type": "execute_result"
    }
   ],
   "source": [
    "test"
   ]
  },
  {
   "cell_type": "markdown",
   "id": "36b3558c",
   "metadata": {
    "papermill": {
     "duration": 0.028021,
     "end_time": "2023-01-18T12:36:24.861976",
     "exception": false,
     "start_time": "2023-01-18T12:36:24.833955",
     "status": "completed"
    },
    "tags": []
   },
   "source": [
    "#### Label Encoding test categorical data"
   ]
  },
  {
   "cell_type": "code",
   "execution_count": 54,
   "id": "e4644042",
   "metadata": {
    "execution": {
     "iopub.execute_input": "2023-01-18T12:36:24.920250Z",
     "iopub.status.busy": "2023-01-18T12:36:24.919859Z",
     "iopub.status.idle": "2023-01-18T12:36:25.103865Z",
     "shell.execute_reply": "2023-01-18T12:36:25.103068Z"
    },
    "papermill": {
     "duration": 0.215885,
     "end_time": "2023-01-18T12:36:25.105982",
     "exception": false,
     "start_time": "2023-01-18T12:36:24.890097",
     "status": "completed"
    },
    "tags": []
   },
   "outputs": [
    {
     "data": {
      "text/plain": [
       "User_ID                         int64\n",
       "Product_ID                    float64\n",
       "Gender                          int64\n",
       "Age                             int64\n",
       "Occupation                      int64\n",
       "City_Category                   int64\n",
       "Stay_In_Current_City_Years     object\n",
       "Marital_Status                  int64\n",
       "Product_Category_1              int64\n",
       "Product_Category_2            float64\n",
       "dtype: object"
      ]
     },
     "execution_count": 54,
     "metadata": {},
     "output_type": "execute_result"
    }
   ],
   "source": [
    "cat_cols=['Gender','City_Category','Age']\n",
    "le=LabelEncoder()\n",
    "for i in cat_cols:\n",
    "    test[i]=le.fit_transform(test[i])\n",
    "test.dtypes"
   ]
  },
  {
   "cell_type": "code",
   "execution_count": 55,
   "id": "409a1490",
   "metadata": {
    "execution": {
     "iopub.execute_input": "2023-01-18T12:36:25.165965Z",
     "iopub.status.busy": "2023-01-18T12:36:25.165002Z",
     "iopub.status.idle": "2023-01-18T12:36:25.180573Z",
     "shell.execute_reply": "2023-01-18T12:36:25.179649Z"
    },
    "papermill": {
     "duration": 0.047923,
     "end_time": "2023-01-18T12:36:25.182895",
     "exception": false,
     "start_time": "2023-01-18T12:36:25.134972",
     "status": "completed"
    },
    "tags": []
   },
   "outputs": [],
   "source": [
    "test['Stay_In_Current_City_Years']=test['Stay_In_Current_City_Years'].replace('4+','4')\n",
    "## Values in the Stay_In_Current_City_Years column has been changed from 4+ to 4"
   ]
  },
  {
   "cell_type": "code",
   "execution_count": 56,
   "id": "becc463b",
   "metadata": {
    "execution": {
     "iopub.execute_input": "2023-01-18T12:36:25.243915Z",
     "iopub.status.busy": "2023-01-18T12:36:25.243534Z",
     "iopub.status.idle": "2023-01-18T12:36:25.278335Z",
     "shell.execute_reply": "2023-01-18T12:36:25.277193Z"
    },
    "papermill": {
     "duration": 0.069076,
     "end_time": "2023-01-18T12:36:25.281148",
     "exception": false,
     "start_time": "2023-01-18T12:36:25.212072",
     "status": "completed"
    },
    "tags": []
   },
   "outputs": [],
   "source": [
    "test['Gender']=test['Gender'].astype(int)\n",
    "test['Age']=test['Age'].astype(int)\n",
    "test['Stay_In_Current_City_Years']=test['Stay_In_Current_City_Years'].astype(int)\n",
    "test['City_Category']=test['City_Category'].astype('category')\n",
    "## The gender, Age and Stay_In_Current_City_Years values are changed to integer types."
   ]
  },
  {
   "cell_type": "code",
   "execution_count": 57,
   "id": "9e7b88eb",
   "metadata": {
    "execution": {
     "iopub.execute_input": "2023-01-18T12:36:25.340581Z",
     "iopub.status.busy": "2023-01-18T12:36:25.340165Z",
     "iopub.status.idle": "2023-01-18T12:36:25.367900Z",
     "shell.execute_reply": "2023-01-18T12:36:25.366892Z"
    },
    "papermill": {
     "duration": 0.060285,
     "end_time": "2023-01-18T12:36:25.370423",
     "exception": false,
     "start_time": "2023-01-18T12:36:25.310138",
     "status": "completed"
    },
    "tags": []
   },
   "outputs": [],
   "source": [
    "test = pd.get_dummies(test)\n",
    "# dummies are created for the test set"
   ]
  },
  {
   "cell_type": "code",
   "execution_count": 58,
   "id": "3f41411c",
   "metadata": {
    "execution": {
     "iopub.execute_input": "2023-01-18T12:36:25.428862Z",
     "iopub.status.busy": "2023-01-18T12:36:25.428214Z",
     "iopub.status.idle": "2023-01-18T12:36:25.442714Z",
     "shell.execute_reply": "2023-01-18T12:36:25.441897Z"
    },
    "papermill": {
     "duration": 0.046076,
     "end_time": "2023-01-18T12:36:25.444784",
     "exception": false,
     "start_time": "2023-01-18T12:36:25.398708",
     "status": "completed"
    },
    "tags": []
   },
   "outputs": [
    {
     "data": {
      "text/html": [
       "<div>\n",
       "<style scoped>\n",
       "    .dataframe tbody tr th:only-of-type {\n",
       "        vertical-align: middle;\n",
       "    }\n",
       "\n",
       "    .dataframe tbody tr th {\n",
       "        vertical-align: top;\n",
       "    }\n",
       "\n",
       "    .dataframe thead th {\n",
       "        text-align: right;\n",
       "    }\n",
       "</style>\n",
       "<table border=\"1\" class=\"dataframe\">\n",
       "  <thead>\n",
       "    <tr style=\"text-align: right;\">\n",
       "      <th></th>\n",
       "      <th>User_ID</th>\n",
       "      <th>Product_ID</th>\n",
       "      <th>Gender</th>\n",
       "      <th>Age</th>\n",
       "      <th>Occupation</th>\n",
       "      <th>Stay_In_Current_City_Years</th>\n",
       "      <th>Marital_Status</th>\n",
       "      <th>Product_Category_1</th>\n",
       "      <th>Product_Category_2</th>\n",
       "      <th>City_Category_0</th>\n",
       "      <th>City_Category_1</th>\n",
       "      <th>City_Category_2</th>\n",
       "    </tr>\n",
       "  </thead>\n",
       "  <tbody>\n",
       "    <tr>\n",
       "      <th>0</th>\n",
       "      <td>1000004</td>\n",
       "      <td>-0.434752</td>\n",
       "      <td>1</td>\n",
       "      <td>4</td>\n",
       "      <td>7</td>\n",
       "      <td>2</td>\n",
       "      <td>1</td>\n",
       "      <td>1</td>\n",
       "      <td>11.0</td>\n",
       "      <td>0</td>\n",
       "      <td>1</td>\n",
       "      <td>0</td>\n",
       "    </tr>\n",
       "    <tr>\n",
       "      <th>1</th>\n",
       "      <td>1000009</td>\n",
       "      <td>-0.587188</td>\n",
       "      <td>1</td>\n",
       "      <td>2</td>\n",
       "      <td>17</td>\n",
       "      <td>0</td>\n",
       "      <td>0</td>\n",
       "      <td>3</td>\n",
       "      <td>5.0</td>\n",
       "      <td>0</td>\n",
       "      <td>0</td>\n",
       "      <td>1</td>\n",
       "    </tr>\n",
       "    <tr>\n",
       "      <th>2</th>\n",
       "      <td>1000010</td>\n",
       "      <td>1.133865</td>\n",
       "      <td>0</td>\n",
       "      <td>3</td>\n",
       "      <td>1</td>\n",
       "      <td>4</td>\n",
       "      <td>1</td>\n",
       "      <td>5</td>\n",
       "      <td>14.0</td>\n",
       "      <td>0</td>\n",
       "      <td>1</td>\n",
       "      <td>0</td>\n",
       "    </tr>\n",
       "    <tr>\n",
       "      <th>3</th>\n",
       "      <td>1000010</td>\n",
       "      <td>-0.273465</td>\n",
       "      <td>0</td>\n",
       "      <td>3</td>\n",
       "      <td>1</td>\n",
       "      <td>4</td>\n",
       "      <td>1</td>\n",
       "      <td>4</td>\n",
       "      <td>9.0</td>\n",
       "      <td>0</td>\n",
       "      <td>1</td>\n",
       "      <td>0</td>\n",
       "    </tr>\n",
       "    <tr>\n",
       "      <th>4</th>\n",
       "      <td>1000011</td>\n",
       "      <td>-1.173330</td>\n",
       "      <td>0</td>\n",
       "      <td>2</td>\n",
       "      <td>1</td>\n",
       "      <td>1</td>\n",
       "      <td>0</td>\n",
       "      <td>4</td>\n",
       "      <td>5.0</td>\n",
       "      <td>0</td>\n",
       "      <td>0</td>\n",
       "      <td>1</td>\n",
       "    </tr>\n",
       "  </tbody>\n",
       "</table>\n",
       "</div>"
      ],
      "text/plain": [
       "   User_ID  Product_ID  Gender  Age  Occupation  Stay_In_Current_City_Years  \\\n",
       "0  1000004   -0.434752       1    4           7                           2   \n",
       "1  1000009   -0.587188       1    2          17                           0   \n",
       "2  1000010    1.133865       0    3           1                           4   \n",
       "3  1000010   -0.273465       0    3           1                           4   \n",
       "4  1000011   -1.173330       0    2           1                           1   \n",
       "\n",
       "   Marital_Status  Product_Category_1  Product_Category_2  City_Category_0  \\\n",
       "0               1                   1                11.0                0   \n",
       "1               0                   3                 5.0                0   \n",
       "2               1                   5                14.0                0   \n",
       "3               1                   4                 9.0                0   \n",
       "4               0                   4                 5.0                0   \n",
       "\n",
       "   City_Category_1  City_Category_2  \n",
       "0                1                0  \n",
       "1                0                1  \n",
       "2                1                0  \n",
       "3                1                0  \n",
       "4                0                1  "
      ]
     },
     "execution_count": 58,
     "metadata": {},
     "output_type": "execute_result"
    }
   ],
   "source": [
    "test.head()"
   ]
  },
  {
   "cell_type": "markdown",
   "id": "dc785814",
   "metadata": {
    "papermill": {
     "duration": 0.0279,
     "end_time": "2023-01-18T12:36:25.501215",
     "exception": false,
     "start_time": "2023-01-18T12:36:25.473315",
     "status": "completed"
    },
    "tags": []
   },
   "source": [
    "### Shape of the train data"
   ]
  },
  {
   "cell_type": "code",
   "execution_count": 59,
   "id": "d68cb2d4",
   "metadata": {
    "execution": {
     "iopub.execute_input": "2023-01-18T12:36:25.560184Z",
     "iopub.status.busy": "2023-01-18T12:36:25.559779Z",
     "iopub.status.idle": "2023-01-18T12:36:25.566587Z",
     "shell.execute_reply": "2023-01-18T12:36:25.565445Z"
    },
    "papermill": {
     "duration": 0.039389,
     "end_time": "2023-01-18T12:36:25.568833",
     "exception": false,
     "start_time": "2023-01-18T12:36:25.529444",
     "status": "completed"
    },
    "tags": []
   },
   "outputs": [
    {
     "data": {
      "text/plain": [
       "(550068, 13)"
      ]
     },
     "execution_count": 59,
     "metadata": {},
     "output_type": "execute_result"
    }
   ],
   "source": [
    "train.shape"
   ]
  },
  {
   "cell_type": "markdown",
   "id": "c45ca362",
   "metadata": {
    "papermill": {
     "duration": 0.028447,
     "end_time": "2023-01-18T12:36:25.626085",
     "exception": false,
     "start_time": "2023-01-18T12:36:25.597638",
     "status": "completed"
    },
    "tags": []
   },
   "source": [
    "#### Shape of the test data"
   ]
  },
  {
   "cell_type": "code",
   "execution_count": 60,
   "id": "ffb0a55c",
   "metadata": {
    "execution": {
     "iopub.execute_input": "2023-01-18T12:36:25.685130Z",
     "iopub.status.busy": "2023-01-18T12:36:25.684698Z",
     "iopub.status.idle": "2023-01-18T12:36:25.690790Z",
     "shell.execute_reply": "2023-01-18T12:36:25.689950Z"
    },
    "papermill": {
     "duration": 0.038456,
     "end_time": "2023-01-18T12:36:25.693136",
     "exception": false,
     "start_time": "2023-01-18T12:36:25.654680",
     "status": "completed"
    },
    "tags": []
   },
   "outputs": [
    {
     "data": {
      "text/plain": [
       "(233599, 12)"
      ]
     },
     "execution_count": 60,
     "metadata": {},
     "output_type": "execute_result"
    }
   ],
   "source": [
    "test.shape"
   ]
  },
  {
   "cell_type": "code",
   "execution_count": 61,
   "id": "c903e6ec",
   "metadata": {
    "execution": {
     "iopub.execute_input": "2023-01-18T12:36:25.752929Z",
     "iopub.status.busy": "2023-01-18T12:36:25.752506Z",
     "iopub.status.idle": "2023-01-18T12:36:27.365221Z",
     "shell.execute_reply": "2023-01-18T12:36:27.364153Z"
    },
    "papermill": {
     "duration": 1.645276,
     "end_time": "2023-01-18T12:36:27.367551",
     "exception": false,
     "start_time": "2023-01-18T12:36:25.722275",
     "status": "completed"
    },
    "tags": []
   },
   "outputs": [
    {
     "name": "stderr",
     "output_type": "stream",
     "text": [
      "/opt/conda/lib/python3.7/site-packages/sklearn/base.py:444: UserWarning: X has feature names, but RandomForestRegressor was fitted without feature names\n",
      "  f\"X has feature names, but {self.__class__.__name__} was fitted without\"\n"
     ]
    },
    {
     "data": {
      "text/plain": [
       "233599"
      ]
     },
     "execution_count": 61,
     "metadata": {},
     "output_type": "execute_result"
    }
   ],
   "source": [
    "test_preds_rfr=rfr.predict(test)\n",
    "len(test_preds_rfr)"
   ]
  },
  {
   "cell_type": "code",
   "execution_count": 62,
   "id": "6bf89b09",
   "metadata": {
    "execution": {
     "iopub.execute_input": "2023-01-18T12:36:27.427518Z",
     "iopub.status.busy": "2023-01-18T12:36:27.427138Z",
     "iopub.status.idle": "2023-01-18T12:36:27.636700Z",
     "shell.execute_reply": "2023-01-18T12:36:27.635617Z"
    },
    "papermill": {
     "duration": 0.242831,
     "end_time": "2023-01-18T12:36:27.639342",
     "exception": false,
     "start_time": "2023-01-18T12:36:27.396511",
     "status": "completed"
    },
    "tags": []
   },
   "outputs": [],
   "source": [
    "id_frame=pd.read_csv('/kaggle/input/black-friday-sales-dataset/test.csv')"
   ]
  },
  {
   "cell_type": "code",
   "execution_count": 63,
   "id": "105573cc",
   "metadata": {
    "execution": {
     "iopub.execute_input": "2023-01-18T12:36:27.700699Z",
     "iopub.status.busy": "2023-01-18T12:36:27.700282Z",
     "iopub.status.idle": "2023-01-18T12:36:27.713497Z",
     "shell.execute_reply": "2023-01-18T12:36:27.712451Z"
    },
    "papermill": {
     "duration": 0.047051,
     "end_time": "2023-01-18T12:36:27.715771",
     "exception": false,
     "start_time": "2023-01-18T12:36:27.668720",
     "status": "completed"
    },
    "tags": []
   },
   "outputs": [
    {
     "data": {
      "text/html": [
       "<div>\n",
       "<style scoped>\n",
       "    .dataframe tbody tr th:only-of-type {\n",
       "        vertical-align: middle;\n",
       "    }\n",
       "\n",
       "    .dataframe tbody tr th {\n",
       "        vertical-align: top;\n",
       "    }\n",
       "\n",
       "    .dataframe thead th {\n",
       "        text-align: right;\n",
       "    }\n",
       "</style>\n",
       "<table border=\"1\" class=\"dataframe\">\n",
       "  <thead>\n",
       "    <tr style=\"text-align: right;\">\n",
       "      <th></th>\n",
       "      <th>User_ID</th>\n",
       "      <th>Product_ID</th>\n",
       "    </tr>\n",
       "  </thead>\n",
       "  <tbody>\n",
       "    <tr>\n",
       "      <th>0</th>\n",
       "      <td>1000004</td>\n",
       "      <td>P00128942</td>\n",
       "    </tr>\n",
       "    <tr>\n",
       "      <th>1</th>\n",
       "      <td>1000009</td>\n",
       "      <td>P00113442</td>\n",
       "    </tr>\n",
       "    <tr>\n",
       "      <th>2</th>\n",
       "      <td>1000010</td>\n",
       "      <td>P00288442</td>\n",
       "    </tr>\n",
       "    <tr>\n",
       "      <th>3</th>\n",
       "      <td>1000010</td>\n",
       "      <td>P00145342</td>\n",
       "    </tr>\n",
       "    <tr>\n",
       "      <th>4</th>\n",
       "      <td>1000011</td>\n",
       "      <td>P00053842</td>\n",
       "    </tr>\n",
       "  </tbody>\n",
       "</table>\n",
       "</div>"
      ],
      "text/plain": [
       "   User_ID Product_ID\n",
       "0  1000004  P00128942\n",
       "1  1000009  P00113442\n",
       "2  1000010  P00288442\n",
       "3  1000010  P00145342\n",
       "4  1000011  P00053842"
      ]
     },
     "execution_count": 63,
     "metadata": {},
     "output_type": "execute_result"
    }
   ],
   "source": [
    "ID_info=id_frame[[\"User_ID\", \"Product_ID\"]]\n",
    "ID_info.head()\n",
    "## Using User_id and Product_Id form the test set"
   ]
  },
  {
   "cell_type": "code",
   "execution_count": 64,
   "id": "9961236f",
   "metadata": {
    "execution": {
     "iopub.execute_input": "2023-01-18T12:36:27.776438Z",
     "iopub.status.busy": "2023-01-18T12:36:27.775516Z",
     "iopub.status.idle": "2023-01-18T12:36:27.792332Z",
     "shell.execute_reply": "2023-01-18T12:36:27.791232Z"
    },
    "papermill": {
     "duration": 0.04971,
     "end_time": "2023-01-18T12:36:27.794773",
     "exception": false,
     "start_time": "2023-01-18T12:36:27.745063",
     "status": "completed"
    },
    "tags": []
   },
   "outputs": [
    {
     "data": {
      "text/html": [
       "<div>\n",
       "<style scoped>\n",
       "    .dataframe tbody tr th:only-of-type {\n",
       "        vertical-align: middle;\n",
       "    }\n",
       "\n",
       "    .dataframe tbody tr th {\n",
       "        vertical-align: top;\n",
       "    }\n",
       "\n",
       "    .dataframe thead th {\n",
       "        text-align: right;\n",
       "    }\n",
       "</style>\n",
       "<table border=\"1\" class=\"dataframe\">\n",
       "  <thead>\n",
       "    <tr style=\"text-align: right;\">\n",
       "      <th></th>\n",
       "      <th>Purchase</th>\n",
       "      <th>User_ID</th>\n",
       "      <th>Product_ID</th>\n",
       "    </tr>\n",
       "  </thead>\n",
       "  <tbody>\n",
       "    <tr>\n",
       "      <th>0</th>\n",
       "      <td>9.499113</td>\n",
       "      <td>1000004</td>\n",
       "      <td>P00128942</td>\n",
       "    </tr>\n",
       "    <tr>\n",
       "      <th>1</th>\n",
       "      <td>9.612891</td>\n",
       "      <td>1000009</td>\n",
       "      <td>P00113442</td>\n",
       "    </tr>\n",
       "    <tr>\n",
       "      <th>2</th>\n",
       "      <td>4.566345</td>\n",
       "      <td>1000010</td>\n",
       "      <td>P00288442</td>\n",
       "    </tr>\n",
       "    <tr>\n",
       "      <th>3</th>\n",
       "      <td>4.566345</td>\n",
       "      <td>1000010</td>\n",
       "      <td>P00145342</td>\n",
       "    </tr>\n",
       "    <tr>\n",
       "      <th>4</th>\n",
       "      <td>4.541774</td>\n",
       "      <td>1000011</td>\n",
       "      <td>P00053842</td>\n",
       "    </tr>\n",
       "  </tbody>\n",
       "</table>\n",
       "</div>"
      ],
      "text/plain": [
       "   Purchase  User_ID Product_ID\n",
       "0  9.499113  1000004  P00128942\n",
       "1  9.612891  1000009  P00113442\n",
       "2  4.566345  1000010  P00288442\n",
       "3  4.566345  1000010  P00145342\n",
       "4  4.541774  1000011  P00053842"
      ]
     },
     "execution_count": 64,
     "metadata": {},
     "output_type": "execute_result"
    }
   ],
   "source": [
    "predictions=pd.DataFrame(test_preds_rfr, columns=['Purchase'])\n",
    "predictions[\"User_ID\"]=ID_info[\"User_ID\"]\n",
    "predictions[\"Product_ID\"]=ID_info[\"Product_ID\"]\n",
    "predictions.head()\n",
    "# Predictions have been save in the form of a dataframe"
   ]
  },
  {
   "cell_type": "code",
   "execution_count": 65,
   "id": "d1156a49",
   "metadata": {
    "execution": {
     "iopub.execute_input": "2023-01-18T12:36:27.855741Z",
     "iopub.status.busy": "2023-01-18T12:36:27.855310Z",
     "iopub.status.idle": "2023-01-18T12:36:28.441472Z",
     "shell.execute_reply": "2023-01-18T12:36:28.440633Z"
    },
    "papermill": {
     "duration": 0.619629,
     "end_time": "2023-01-18T12:36:28.444019",
     "exception": false,
     "start_time": "2023-01-18T12:36:27.824390",
     "status": "completed"
    },
    "tags": []
   },
   "outputs": [],
   "source": [
    "predictions.to_csv('BlackFridayPredictions.csv', index=False)\n",
    "# Finally converted the prediction into csv format"
   ]
  },
  {
   "cell_type": "code",
   "execution_count": null,
   "id": "39ae02ab",
   "metadata": {
    "papermill": {
     "duration": 0.028458,
     "end_time": "2023-01-18T12:36:28.501533",
     "exception": false,
     "start_time": "2023-01-18T12:36:28.473075",
     "status": "completed"
    },
    "tags": []
   },
   "outputs": [],
   "source": []
  }
 ],
 "metadata": {
  "kernelspec": {
   "display_name": "Python 3",
   "language": "python",
   "name": "python3"
  },
  "language_info": {
   "codemirror_mode": {
    "name": "ipython",
    "version": 3
   },
   "file_extension": ".py",
   "mimetype": "text/x-python",
   "name": "python",
   "nbconvert_exporter": "python",
   "pygments_lexer": "ipython3",
   "version": "3.7.12"
  },
  "papermill": {
   "default_parameters": {},
   "duration": 414.92305,
   "end_time": "2023-01-18T12:36:29.755909",
   "environment_variables": {},
   "exception": null,
   "input_path": "__notebook__.ipynb",
   "output_path": "__notebook__.ipynb",
   "parameters": {},
   "start_time": "2023-01-18T12:29:34.832859",
   "version": "2.3.4"
  }
 },
 "nbformat": 4,
 "nbformat_minor": 5
}
